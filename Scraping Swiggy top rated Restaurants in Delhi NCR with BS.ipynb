{
 "cells": [
  {
   "cell_type": "code",
   "execution_count": 1,
   "metadata": {},
   "outputs": [],
   "source": [
    "import requests\n",
    "from bs4 import BeautifulSoup"
   ]
  },
  {
   "cell_type": "code",
   "execution_count": 2,
   "metadata": {},
   "outputs": [],
   "source": [
    "headers = {'User-Agent': 'Mozilla/5.0 (Windows NT 10.0 ; Win64; x64) AppleWebKit/537.36 (KHTML, like Gecko) Chrome/58.0.3029.110 Safari/537.3'}"
   ]
  },
  {
   "cell_type": "markdown",
   "metadata": {},
   "source": [
    "#### Scraping Veg Restuarnats in Delhi NCR with BS"
   ]
  },
  {
   "cell_type": "code",
   "execution_count": 8,
   "metadata": {},
   "outputs": [],
   "source": [
    "# url = \"https://www.zomato.com/ncr/restaurants?veg=1\"\n",
    "url1 = \"https://www.swiggy.com/delhi/top-rated-collection\"\n",
    "response = requests.get(url1)"
   ]
  },
  {
   "cell_type": "code",
   "execution_count": 9,
   "metadata": {},
   "outputs": [
    {
     "name": "stdout",
     "output_type": "stream",
     "text": [
      "b'<!DOCTYPE html><html lang=\"en\" class=><head>  <link rel=\"preconnect\" href=\"https://res.cloudinary.com\"><link rel=\"dns-prefetch\" href=\"https://res.cloudinary.com\">  <meta http-equiv=\"Content-type\" content=\"text/html; charset=utf-8\"><meta charset=\"utf-8\">  <link rel=\"stylesheet\" href=\"https://res.cloudinary.com/swiggy/raw/upload/static-assets/production_ci_dweb/css/app.3303aa1804c03aa12fbd79a3349713'\n"
     ]
    }
   ],
   "source": [
    "print(response.content[:400])"
   ]
  },
  {
   "cell_type": "code",
   "execution_count": 11,
   "metadata": {},
   "outputs": [
    {
     "name": "stdout",
     "output_type": "stream",
     "text": [
      "<!DOCTYPE html><html lang=\"en\" class=><head>  <link rel=\"preconnect\" href=\"https://res.cloudinary.com\"><link rel=\"dns-prefetch\" href=\"https://res.cloudinary.com\">  <meta http-equiv=\"Content-type\" cont\n"
     ]
    }
   ],
   "source": [
    "response = requests.get(url1, headers=headers)\n",
    "print(response.text[:200])"
   ]
  },
  {
   "cell_type": "code",
   "execution_count": 13,
   "metadata": {},
   "outputs": [],
   "source": [
    "soup = BeautifulSoup(response.content, features=\"lxml\")"
   ]
  },
  {
   "cell_type": "markdown",
   "metadata": {},
   "source": [
    "#### Extract all Res_Names"
   ]
  },
  {
   "cell_type": "code",
   "execution_count": 15,
   "metadata": {},
   "outputs": [
    {
     "name": "stdout",
     "output_type": "stream",
     "text": [
      "<div class=\"nA6kb\">Standard Corner</div>\n",
      "Standard Corner\n"
     ]
    }
   ],
   "source": [
    "r1 = soup.find('div', class_=\"nA6kb\")\n",
    "print(r1)\n",
    "r1 = soup.find('div', attrs={\"nA6kb\"})\n",
    "print(r1.text)"
   ]
  },
  {
   "cell_type": "code",
   "execution_count": 17,
   "metadata": {},
   "outputs": [
    {
     "name": "stdout",
     "output_type": "stream",
     "text": [
      "['Standard Corner', 'Saravana Bhavan', 'Bangla Foods', 'Odeon Sweets', 'Brioche Doree', 'Starbucks Coffee', 'Canteen Central by Zippy', 'Gopal Sweets Corner', 'Hira Sweets', 'sharma ji paratha wala delhi 6', 'Flavour Of Southvala Pvt Ltd', 'South Indian Cafe', \"Bhimsain's Bengali Sweet House\", 'Radhey Shyam Subhash Kumar Special Chole Bhature', 'GoGourmet', 'Keventers-The Original Milkshake']\n",
      "16\n"
     ]
    }
   ],
   "source": [
    "res_names = []\n",
    "for i in soup.find_all('div', attrs={\"nA6kb\"}):\n",
    "    res_names.append(i.text)\n",
    "print(res_names)\n",
    "print(len(res_names))"
   ]
  },
  {
   "cell_type": "markdown",
   "metadata": {},
   "source": [
    "#### Extract Price"
   ]
  },
  {
   "cell_type": "code",
   "execution_count": null,
   "metadata": {},
   "outputs": [],
   "source": []
  },
  {
   "cell_type": "code",
   "execution_count": 20,
   "metadata": {},
   "outputs": [
    {
     "name": "stdout",
     "output_type": "stream",
     "text": [
      "['₹100 FOR TWO', '₹550 FOR TWO', '₹250 FOR TWO', '₹150 FOR TWO', '₹400 FOR TWO', '₹400 FOR TWO', '₹200 FOR TWO', '₹200 FOR TWO', '₹350 FOR TWO', '₹99 FOR TWO', '₹300 FOR TWO', '₹200 FOR TWO', '₹400 FOR TWO', '₹150 FOR TWO', '₹200 FOR TWO', '₹200 FOR TWO']\n",
      "16\n"
     ]
    }
   ],
   "source": [
    "price = []\n",
    "for i in soup.find_all('div', class_=\"nVWSi\"):\n",
    "    price.append(i.text)\n",
    "print(price)\n",
    "print(len(price))"
   ]
  },
  {
   "cell_type": "code",
   "execution_count": 21,
   "metadata": {},
   "outputs": [
    {
     "name": "stdout",
     "output_type": "stream",
     "text": [
      "['100 FOR TWO', '550 FOR TWO', '250 FOR TWO', '150 FOR TWO', '400 FOR TWO', '400 FOR TWO', '200 FOR TWO', '200 FOR TWO', '350 FOR TWO', '99 FOR TWO', '300 FOR TWO', '200 FOR TWO', '400 FOR TWO', '150 FOR TWO', '200 FOR TWO', '200 FOR TWO']\n",
      "16\n"
     ]
    }
   ],
   "source": [
    "price = [i.replace('₹','') for i in price]\n",
    "print(price)\n",
    "print(len(price))"
   ]
  },
  {
   "cell_type": "code",
   "execution_count": 22,
   "metadata": {},
   "outputs": [
    {
     "name": "stdout",
     "output_type": "stream",
     "text": [
      "['100', '550', '250', '150', '400', '400', '200', '200', '350', '99', '300', '200', '400', '150', '200', '200']\n",
      "16\n"
     ]
    }
   ],
   "source": [
    "price = [i.replace(' FOR TWO','') for i in price]\n",
    "print(price)\n",
    "print(len(price))"
   ]
  },
  {
   "cell_type": "markdown",
   "metadata": {},
   "source": [
    "#### Extract Delivery Time"
   ]
  },
  {
   "cell_type": "code",
   "execution_count": 26,
   "metadata": {},
   "outputs": [
    {
     "name": "stdout",
     "output_type": "stream",
     "text": [
      "31 MINS\n",
      "25 MINS\n",
      "27 MINS\n",
      "27 MINS\n",
      "26 MINS\n",
      "24 MINS\n",
      "27 MINS\n",
      "34 MINS\n",
      "38 MINS\n",
      "35 MINS\n",
      "31 MINS\n",
      "31 MINS\n",
      "28 MINS\n",
      "26 MINS\n",
      "25 MINS\n",
      "27 MINS\n"
     ]
    }
   ],
   "source": [
    "del_time = []\n",
    "for i in soup.find_all('div', class_=\"nVWSi\"):\n",
    "    print(i.previous_element.previous_element.previous_element)\n",
    "# print(del_time)\n",
    "# print(len(del_time))"
   ]
  },
  {
   "cell_type": "code",
   "execution_count": 28,
   "metadata": {},
   "outputs": [
    {
     "name": "stdout",
     "output_type": "stream",
     "text": [
      "['31 MINS', '25 MINS', '27 MINS', '27 MINS', '26 MINS', '24 MINS', '27 MINS', '34 MINS', '38 MINS', '35 MINS', '31 MINS', '31 MINS', '28 MINS', '26 MINS', '25 MINS', '27 MINS']\n",
      "16\n"
     ]
    }
   ],
   "source": [
    "del_time = []\n",
    "for i in soup.find_all('div', class_=\"nVWSi\"):\n",
    "    del_time.append(i.previous_element.previous_element.previous_element)\n",
    "print(del_time)\n",
    "print(len(del_time))"
   ]
  },
  {
   "cell_type": "code",
   "execution_count": 31,
   "metadata": {},
   "outputs": [
    {
     "name": "stdout",
     "output_type": "stream",
     "text": [
      "['31 ', '25 ', '27 ', '27 ', '26 ', '24 ', '27 ', '34 ', '38 ', '35 ', '31 ', '31 ', '28 ', '26 ', '25 ', '27 ']\n",
      "16\n"
     ]
    }
   ],
   "source": [
    "del_time_mins = [i.replace('MINS','') for i in del_time]\n",
    "print(del_time_mins)\n",
    "print(len(del_time_mins))"
   ]
  },
  {
   "cell_type": "markdown",
   "metadata": {},
   "source": [
    "#### Extract link to images"
   ]
  },
  {
   "cell_type": "code",
   "execution_count": 35,
   "metadata": {},
   "outputs": [
    {
     "name": "stdout",
     "output_type": "stream",
     "text": [
      "<div class=\"efp8s\"><img alt=\"Standard Corner\" class=\"_12_oN\" height=\"160\" width=\"254\"/></div>\n",
      "<div class=\"efp8s\"><img alt=\"Saravana Bhavan\" class=\"_12_oN\" height=\"160\" width=\"254\"/></div>\n",
      "<div class=\"efp8s\"><img alt=\"Bangla Foods\" class=\"_12_oN\" height=\"160\" width=\"254\"/></div>\n",
      "<div class=\"efp8s\"><img alt=\"Odeon Sweets\" class=\"_12_oN\" height=\"160\" width=\"254\"/></div>\n",
      "<div class=\"efp8s\"><img alt=\"Brioche Doree\" class=\"_12_oN\" height=\"160\" width=\"254\"/></div>\n",
      "<div class=\"efp8s\"><img alt=\"Starbucks Coffee\" class=\"_12_oN\" height=\"160\" width=\"254\"/></div>\n",
      "<div class=\"efp8s\"><img alt=\"Canteen Central by Zippy\" class=\"_12_oN\" height=\"160\" width=\"254\"/></div>\n",
      "<div class=\"efp8s\"><img alt=\"Gopal Sweets Corner\" class=\"_12_oN\" height=\"160\" width=\"254\"/></div>\n",
      "<div class=\"efp8s\"><img alt=\"Hira Sweets\" class=\"_12_oN\" height=\"160\" width=\"254\"/></div>\n",
      "<div class=\"efp8s\"><img alt=\"sharma ji paratha wala delhi 6\" class=\"_12_oN\" height=\"160\" width=\"254\"/></div>\n",
      "<div class=\"efp8s\"><img alt=\"Flavour Of Southvala Pvt Ltd\" class=\"_12_oN\" height=\"160\" width=\"254\"/></div>\n",
      "<div class=\"efp8s\"><img alt=\"South Indian Cafe\" class=\"_12_oN\" height=\"160\" width=\"254\"/></div>\n",
      "<div class=\"efp8s\"><img alt=\"Bhimsain's Bengali Sweet House\" class=\"_12_oN\" height=\"160\" width=\"254\"/></div>\n",
      "<div class=\"efp8s\"><img alt=\"Radhey Shyam Subhash Kumar Special Chole Bhature\" class=\"_12_oN\" height=\"160\" width=\"254\"/></div>\n",
      "<div class=\"efp8s\"><img alt=\"GoGourmet\" class=\"_12_oN\" height=\"160\" width=\"254\"/></div>\n",
      "<div class=\"efp8s\"><img alt=\"Keventers-The Original Milkshake\" class=\"_12_oN\" height=\"160\" width=\"254\"/></div>\n"
     ]
    }
   ],
   "source": [
    "img_link =[]\n",
    "# for i in soup.find_all('img', attrs={\"_2tuBw\"}):\n",
    "#     print(i)\n",
    "for i in soup.find_all('div', attrs={\"efp8s\"}):\n",
    "    print(i)"
   ]
  },
  {
   "cell_type": "code",
   "execution_count": 36,
   "metadata": {},
   "outputs": [
    {
     "name": "stdout",
     "output_type": "stream",
     "text": [
      "<img alt=\"Standard Corner\" class=\"_12_oN\" height=\"160\" width=\"254\"/>\n",
      "<img alt=\"Saravana Bhavan\" class=\"_12_oN\" height=\"160\" width=\"254\"/>\n",
      "<img alt=\"Bangla Foods\" class=\"_12_oN\" height=\"160\" width=\"254\"/>\n",
      "<img alt=\"Odeon Sweets\" class=\"_12_oN\" height=\"160\" width=\"254\"/>\n",
      "<img alt=\"Brioche Doree\" class=\"_12_oN\" height=\"160\" width=\"254\"/>\n",
      "<img alt=\"Starbucks Coffee\" class=\"_12_oN\" height=\"160\" width=\"254\"/>\n",
      "<img alt=\"Canteen Central by Zippy\" class=\"_12_oN\" height=\"160\" width=\"254\"/>\n",
      "<img alt=\"Gopal Sweets Corner\" class=\"_12_oN\" height=\"160\" width=\"254\"/>\n",
      "<img alt=\"Hira Sweets\" class=\"_12_oN\" height=\"160\" width=\"254\"/>\n",
      "<img alt=\"sharma ji paratha wala delhi 6\" class=\"_12_oN\" height=\"160\" width=\"254\"/>\n",
      "<img alt=\"Flavour Of Southvala Pvt Ltd\" class=\"_12_oN\" height=\"160\" width=\"254\"/>\n",
      "<img alt=\"South Indian Cafe\" class=\"_12_oN\" height=\"160\" width=\"254\"/>\n",
      "<img alt=\"Bhimsain's Bengali Sweet House\" class=\"_12_oN\" height=\"160\" width=\"254\"/>\n",
      "<img alt=\"Radhey Shyam Subhash Kumar Special Chole Bhature\" class=\"_12_oN\" height=\"160\" width=\"254\"/>\n",
      "<img alt=\"GoGourmet\" class=\"_12_oN\" height=\"160\" width=\"254\"/>\n",
      "<img alt=\"Keventers-The Original Milkshake\" class=\"_12_oN\" height=\"160\" width=\"254\"/>\n"
     ]
    }
   ],
   "source": [
    "for i in soup.find_all('div', attrs={\"efp8s\"}):\n",
    "    print(i.next_element)"
   ]
  },
  {
   "cell_type": "markdown",
   "metadata": {},
   "source": [
    "#### Extract Rating"
   ]
  },
  {
   "cell_type": "code",
   "execution_count": 41,
   "metadata": {},
   "outputs": [
    {
     "name": "stdout",
     "output_type": "stream",
     "text": [
      "['4.4', '4.4', '4.3', '4.3', '4.3', '4.3', '4.3', '4.2', '4.2', '4.2', '4.2', '4.2', '4.2', '4.2', '4.2', '4.2']\n",
      "16\n"
     ]
    }
   ],
   "source": [
    "rating =[]\n",
    "# for i in soup.find_all('span', class_=\"icon-star\"):\n",
    "#     print(i)\n",
    "# for i in soup.find_all('span', class_=\"icon-star\"):\n",
    "#     print(i.next_element)\n",
    "# for i in soup.find_all('span', class_=\"icon-star\"):\n",
    "#     print(i.next_element.text)\n",
    "for i in soup.find_all('span', class_=\"icon-star\"):\n",
    "    rating.append(i.next_element.text)\n",
    "print(rating)\n",
    "print(len(rating))"
   ]
  },
  {
   "cell_type": "markdown",
   "metadata": {},
   "source": [
    "#### Convert Res_Name, Delivery Time, Rating and Price for two in dataframe"
   ]
  },
  {
   "cell_type": "code",
   "execution_count": 42,
   "metadata": {},
   "outputs": [],
   "source": [
    "import pandas as pd"
   ]
  },
  {
   "cell_type": "code",
   "execution_count": 47,
   "metadata": {},
   "outputs": [
    {
     "data": {
      "text/html": [
       "<div>\n",
       "<style scoped>\n",
       "    .dataframe tbody tr th:only-of-type {\n",
       "        vertical-align: middle;\n",
       "    }\n",
       "\n",
       "    .dataframe tbody tr th {\n",
       "        vertical-align: top;\n",
       "    }\n",
       "\n",
       "    .dataframe thead th {\n",
       "        text-align: right;\n",
       "    }\n",
       "</style>\n",
       "<table border=\"1\" class=\"dataframe\">\n",
       "  <thead>\n",
       "    <tr style=\"text-align: right;\">\n",
       "      <th></th>\n",
       "      <th>Restaurant Name</th>\n",
       "      <th>Rating</th>\n",
       "      <th>Delivery Time (min)</th>\n",
       "      <th>Price For Two (INR)</th>\n",
       "    </tr>\n",
       "  </thead>\n",
       "  <tbody>\n",
       "    <tr>\n",
       "      <th>0</th>\n",
       "      <td>Standard Corner</td>\n",
       "      <td>4.4</td>\n",
       "      <td>31</td>\n",
       "      <td>100</td>\n",
       "    </tr>\n",
       "    <tr>\n",
       "      <th>1</th>\n",
       "      <td>Saravana Bhavan</td>\n",
       "      <td>4.4</td>\n",
       "      <td>25</td>\n",
       "      <td>550</td>\n",
       "    </tr>\n",
       "    <tr>\n",
       "      <th>2</th>\n",
       "      <td>Bangla Foods</td>\n",
       "      <td>4.3</td>\n",
       "      <td>27</td>\n",
       "      <td>250</td>\n",
       "    </tr>\n",
       "    <tr>\n",
       "      <th>3</th>\n",
       "      <td>Odeon Sweets</td>\n",
       "      <td>4.3</td>\n",
       "      <td>27</td>\n",
       "      <td>150</td>\n",
       "    </tr>\n",
       "    <tr>\n",
       "      <th>4</th>\n",
       "      <td>Brioche Doree</td>\n",
       "      <td>4.3</td>\n",
       "      <td>26</td>\n",
       "      <td>400</td>\n",
       "    </tr>\n",
       "    <tr>\n",
       "      <th>5</th>\n",
       "      <td>Starbucks Coffee</td>\n",
       "      <td>4.3</td>\n",
       "      <td>24</td>\n",
       "      <td>400</td>\n",
       "    </tr>\n",
       "    <tr>\n",
       "      <th>6</th>\n",
       "      <td>Canteen Central by Zippy</td>\n",
       "      <td>4.3</td>\n",
       "      <td>27</td>\n",
       "      <td>200</td>\n",
       "    </tr>\n",
       "    <tr>\n",
       "      <th>7</th>\n",
       "      <td>Gopal Sweets Corner</td>\n",
       "      <td>4.2</td>\n",
       "      <td>34</td>\n",
       "      <td>200</td>\n",
       "    </tr>\n",
       "    <tr>\n",
       "      <th>8</th>\n",
       "      <td>Hira Sweets</td>\n",
       "      <td>4.2</td>\n",
       "      <td>38</td>\n",
       "      <td>350</td>\n",
       "    </tr>\n",
       "    <tr>\n",
       "      <th>9</th>\n",
       "      <td>sharma ji paratha wala delhi 6</td>\n",
       "      <td>4.2</td>\n",
       "      <td>35</td>\n",
       "      <td>99</td>\n",
       "    </tr>\n",
       "    <tr>\n",
       "      <th>10</th>\n",
       "      <td>Flavour Of Southvala Pvt Ltd</td>\n",
       "      <td>4.2</td>\n",
       "      <td>31</td>\n",
       "      <td>300</td>\n",
       "    </tr>\n",
       "    <tr>\n",
       "      <th>11</th>\n",
       "      <td>South Indian Cafe</td>\n",
       "      <td>4.2</td>\n",
       "      <td>31</td>\n",
       "      <td>200</td>\n",
       "    </tr>\n",
       "    <tr>\n",
       "      <th>12</th>\n",
       "      <td>Bhimsain's Bengali Sweet House</td>\n",
       "      <td>4.2</td>\n",
       "      <td>28</td>\n",
       "      <td>400</td>\n",
       "    </tr>\n",
       "    <tr>\n",
       "      <th>13</th>\n",
       "      <td>Radhey Shyam Subhash Kumar Special Chole Bhature</td>\n",
       "      <td>4.2</td>\n",
       "      <td>26</td>\n",
       "      <td>150</td>\n",
       "    </tr>\n",
       "    <tr>\n",
       "      <th>14</th>\n",
       "      <td>GoGourmet</td>\n",
       "      <td>4.2</td>\n",
       "      <td>25</td>\n",
       "      <td>200</td>\n",
       "    </tr>\n",
       "    <tr>\n",
       "      <th>15</th>\n",
       "      <td>Keventers-The Original Milkshake</td>\n",
       "      <td>4.2</td>\n",
       "      <td>27</td>\n",
       "      <td>200</td>\n",
       "    </tr>\n",
       "  </tbody>\n",
       "</table>\n",
       "</div>"
      ],
      "text/plain": [
       "                                     Restaurant Name Rating  \\\n",
       "0                                    Standard Corner    4.4   \n",
       "1                                    Saravana Bhavan    4.4   \n",
       "2                                       Bangla Foods    4.3   \n",
       "3                                       Odeon Sweets    4.3   \n",
       "4                                      Brioche Doree    4.3   \n",
       "5                                   Starbucks Coffee    4.3   \n",
       "6                           Canteen Central by Zippy    4.3   \n",
       "7                                Gopal Sweets Corner    4.2   \n",
       "8                                        Hira Sweets    4.2   \n",
       "9                     sharma ji paratha wala delhi 6    4.2   \n",
       "10                      Flavour Of Southvala Pvt Ltd    4.2   \n",
       "11                                 South Indian Cafe    4.2   \n",
       "12                    Bhimsain's Bengali Sweet House    4.2   \n",
       "13  Radhey Shyam Subhash Kumar Special Chole Bhature    4.2   \n",
       "14                                         GoGourmet    4.2   \n",
       "15                  Keventers-The Original Milkshake    4.2   \n",
       "\n",
       "   Delivery Time (min) Price For Two (INR)  \n",
       "0                  31                  100  \n",
       "1                  25                  550  \n",
       "2                  27                  250  \n",
       "3                  27                  150  \n",
       "4                  26                  400  \n",
       "5                  24                  400  \n",
       "6                  27                  200  \n",
       "7                  34                  200  \n",
       "8                  38                  350  \n",
       "9                  35                   99  \n",
       "10                 31                  300  \n",
       "11                 31                  200  \n",
       "12                 28                  400  \n",
       "13                 26                  150  \n",
       "14                 25                  200  \n",
       "15                 27                  200  "
      ]
     },
     "execution_count": 47,
     "metadata": {},
     "output_type": "execute_result"
    }
   ],
   "source": [
    "df = pd.DataFrame({\"Restaurant Name\":res_names,\"Rating\":rating,\n",
    "                   \"Delivery Time (min)\":del_time_mins,\"Price For Two (INR)\":price})\n",
    "df"
   ]
  },
  {
   "cell_type": "code",
   "execution_count": 48,
   "metadata": {},
   "outputs": [],
   "source": [
    "df.to_csv('Top_Rated_Restaurants_Delhi_NCR.csv')"
   ]
  },
  {
   "cell_type": "code",
   "execution_count": null,
   "metadata": {},
   "outputs": [],
   "source": []
  }
 ],
 "metadata": {
  "kernelspec": {
   "display_name": "Python 3",
   "language": "python",
   "name": "python3"
  },
  "language_info": {
   "codemirror_mode": {
    "name": "ipython",
    "version": 3
   },
   "file_extension": ".py",
   "mimetype": "text/x-python",
   "name": "python",
   "nbconvert_exporter": "python",
   "pygments_lexer": "ipython3",
   "version": "3.7.3"
  }
 },
 "nbformat": 4,
 "nbformat_minor": 2
}
