{
 "cells": [
  {
   "cell_type": "code",
   "execution_count": 66,
   "metadata": {},
   "outputs": [],
   "source": [
    "html_doc = \"\"\"\n",
    "<html>\n",
    "<head>\n",
    "<title>My First webpage</title>\n",
    "</head>\n",
    "<body bgcolor=\"lightgreen\">\n",
    "<p class=\"title\">\n",
    "<b>Overview of Beautiful Soup</b>   \n",
    "</p>\n",
    "<p class=\"story\">\n",
    "Beautiful is used for Web scraping or extracting contents from a wesbite\n",
    "Some websites are\n",
    "<a class=\"wikipedia\" href=\"https://www.wikipedia.org/\" id=\"link1\">\n",
    "Wikipedia\n",
    "</a> Browse  Wiki\n",
    "<a class=\"isro\" href=\"https://www.isro.gov.in/\" id=\"link2\">\n",
    "ISRO\n",
    "</a> Browse ISRO and\n",
    "<a class=\"inner_engineering\" href=\"https://www.innerengineering.com/\" id=\"link3\">\n",
    "Inner Engineering\n",
    "</a> Welcome\n",
    "</p>\n",
    "<p class=\"other_details\">\n",
    "Few random paragraphs. Some arbitary content without any relevance or significane to anyone living or dead.\n",
    "\n",
    "</p>\n",
    "</body>\n",
    "</html>\n",
    "\n",
    "\"\"\""
   ]
  },
  {
   "cell_type": "code",
   "execution_count": 67,
   "metadata": {},
   "outputs": [],
   "source": [
    "from bs4 import BeautifulSoup\n",
    "soup = BeautifulSoup(html_doc, 'html.parser')"
   ]
  },
  {
   "cell_type": "code",
   "execution_count": 68,
   "metadata": {},
   "outputs": [
    {
     "name": "stdout",
     "output_type": "stream",
     "text": [
      "<html>\n",
      " <head>\n",
      "  <title>\n",
      "   My First webpage\n",
      "  </title>\n",
      " </head>\n",
      " <body bgcolor=\"lightgreen\">\n",
      "  <p class=\"title\">\n",
      "   <b>\n",
      "    Overview of Beautiful Soup\n",
      "   </b>\n",
      "  </p>\n",
      "  <p class=\"story\">\n",
      "   Beautiful is used for Web scraping or extracting contents from a wesbite\n",
      "Some websites are\n",
      "   <a class=\"wikipedia\" href=\"https://www.wikipedia.org/\" id=\"link1\">\n",
      "    Wikipedia\n",
      "   </a>\n",
      "   Browse  Wiki\n",
      "   <a class=\"isro\" href=\"https://www.isro.gov.in/\" id=\"link2\">\n",
      "    ISRO\n",
      "   </a>\n",
      "   Browse ISRO and\n",
      "   <a class=\"inner_engineering\" href=\"https://www.innerengineering.com/\" id=\"link3\">\n",
      "    Inner Engineering\n",
      "   </a>\n",
      "   Welcome\n",
      "  </p>\n",
      "  <p class=\"other_details\">\n",
      "   Few random paragraphs. Some arbitary content without any relevance or significane to anyone living or dead.\n",
      "  </p>\n",
      " </body>\n",
      "</html>\n",
      "\n"
     ]
    }
   ],
   "source": [
    "print(soup.prettify())"
   ]
  },
  {
   "cell_type": "markdown",
   "metadata": {},
   "source": [
    "#### Extract head tag of the page"
   ]
  },
  {
   "cell_type": "code",
   "execution_count": 69,
   "metadata": {},
   "outputs": [
    {
     "name": "stdout",
     "output_type": "stream",
     "text": [
      "<head>\n",
      "<title>My First webpage</title>\n",
      "</head>\n"
     ]
    }
   ],
   "source": [
    "print(soup.head)"
   ]
  },
  {
   "cell_type": "markdown",
   "metadata": {},
   "source": [
    "#### Extract contents and children inside head\n",
    "\n",
    "<b> Note </b> - The .contents and .children attributes only consider a tag’s direct children"
   ]
  },
  {
   "cell_type": "code",
   "execution_count": 70,
   "metadata": {},
   "outputs": [
    {
     "name": "stdout",
     "output_type": "stream",
     "text": [
      "['\\n', <title>My First webpage</title>, '\\n']\n",
      "<title>My First webpage</title>\n"
     ]
    }
   ],
   "source": [
    "print(soup.head.contents)\n",
    "print(soup.head.contents[1])"
   ]
  },
  {
   "cell_type": "code",
   "execution_count": 71,
   "metadata": {},
   "outputs": [
    {
     "name": "stdout",
     "output_type": "stream",
     "text": [
      "<title>My First webpage</title>\n"
     ]
    }
   ],
   "source": [
    "title_tag = soup.head.contents[1]\n",
    "print(title_tag)"
   ]
  },
  {
   "cell_type": "code",
   "execution_count": 72,
   "metadata": {},
   "outputs": [
    {
     "name": "stdout",
     "output_type": "stream",
     "text": [
      "My First webpage\n"
     ]
    }
   ],
   "source": [
    "for child in title_tag.children:\n",
    "    print(child)"
   ]
  },
  {
   "cell_type": "markdown",
   "metadata": {},
   "source": [
    "#### Extract descendents"
   ]
  },
  {
   "cell_type": "code",
   "execution_count": 73,
   "metadata": {},
   "outputs": [
    {
     "name": "stdout",
     "output_type": "stream",
     "text": [
      "\n",
      "\n",
      "<title>My First webpage</title>\n",
      "My First webpage\n",
      "\n",
      "\n"
     ]
    }
   ],
   "source": [
    "head_tag = soup.head\n",
    "for child in head_tag.descendants:\n",
    "    print(child)"
   ]
  },
  {
   "cell_type": "code",
   "execution_count": 74,
   "metadata": {},
   "outputs": [
    {
     "name": "stdout",
     "output_type": "stream",
     "text": [
      "\n",
      "\n",
      "<html>\n",
      "<head>\n",
      "<title>My First webpage</title>\n",
      "</head>\n",
      "<body bgcolor=\"lightgreen\">\n",
      "<p class=\"title\">\n",
      "<b>Overview of Beautiful Soup</b>\n",
      "</p>\n",
      "<p class=\"story\">\n",
      "Beautiful is used for Web scraping or extracting contents from a wesbite\n",
      "Some websites are\n",
      "<a class=\"wikipedia\" href=\"https://www.wikipedia.org/\" id=\"link1\">\n",
      "Wikipedia\n",
      "</a> Browse  Wiki\n",
      "<a class=\"isro\" href=\"https://www.isro.gov.in/\" id=\"link2\">\n",
      "ISRO\n",
      "</a> Browse ISRO and\n",
      "<a class=\"inner_engineering\" href=\"https://www.innerengineering.com/\" id=\"link3\">\n",
      "Inner Engineering\n",
      "</a> Welcome\n",
      "</p>\n",
      "<p class=\"other_details\">\n",
      "Few random paragraphs. Some arbitary content without any relevance or significane to anyone living or dead.\n",
      "\n",
      "</p>\n",
      "</body>\n",
      "</html>\n",
      "\n",
      "\n"
     ]
    }
   ],
   "source": [
    "for i in soup.children:\n",
    "    print(i)"
   ]
  },
  {
   "cell_type": "code",
   "execution_count": 75,
   "metadata": {},
   "outputs": [
    {
     "name": "stdout",
     "output_type": "stream",
     "text": [
      "3\n",
      "34\n"
     ]
    }
   ],
   "source": [
    "print(len(list(soup.children)))\n",
    "print(len(list(soup.descendants)))"
   ]
  },
  {
   "cell_type": "markdown",
   "metadata": {},
   "source": [
    "#### Extract string"
   ]
  },
  {
   "cell_type": "markdown",
   "metadata": {},
   "source": [
    "Note - If a tag has only one child, and that child is a NavigableString, the child is made available as .string"
   ]
  },
  {
   "cell_type": "code",
   "execution_count": 76,
   "metadata": {},
   "outputs": [
    {
     "data": {
      "text/plain": [
       "['\\n', <title>My First webpage</title>, '\\n']"
      ]
     },
     "execution_count": 76,
     "metadata": {},
     "output_type": "execute_result"
    }
   ],
   "source": [
    "head_tag.contents"
   ]
  },
  {
   "cell_type": "code",
   "execution_count": 77,
   "metadata": {},
   "outputs": [],
   "source": [
    "head_tag.string"
   ]
  },
  {
   "cell_type": "markdown",
   "metadata": {},
   "source": [
    "<b>.stripped_string </b>- Remove whiltespace"
   ]
  },
  {
   "cell_type": "markdown",
   "metadata": {},
   "source": [
    "#### Extract all strings"
   ]
  },
  {
   "cell_type": "code",
   "execution_count": 78,
   "metadata": {},
   "outputs": [
    {
     "name": "stdout",
     "output_type": "stream",
     "text": [
      "'\\n'\n",
      "'\\n'\n",
      "'\\n'\n",
      "'My First webpage'\n",
      "'\\n'\n",
      "'\\n'\n",
      "'\\n'\n",
      "'\\n'\n",
      "'Overview of Beautiful Soup'\n",
      "'\\n'\n",
      "'\\n'\n",
      "'\\nBeautiful is used for Web scraping or extracting contents from a wesbite\\nSome websites are\\n'\n",
      "'\\nWikipedia\\n'\n",
      "' Browse  Wiki\\n'\n",
      "'\\nISRO\\n'\n",
      "' Browse ISRO and\\n'\n",
      "'\\nInner Engineering\\n'\n",
      "' Welcome\\n'\n",
      "'\\n'\n",
      "'\\nFew random paragraphs. Some arbitary content without any relevance or significane to anyone living or dead.\\n\\n'\n",
      "'\\n'\n",
      "'\\n'\n",
      "'\\n'\n"
     ]
    }
   ],
   "source": [
    "for string in soup.strings:\n",
    "    print(repr(string))"
   ]
  },
  {
   "cell_type": "markdown",
   "metadata": {},
   "source": [
    "#### Extract all stripped strings"
   ]
  },
  {
   "cell_type": "code",
   "execution_count": 79,
   "metadata": {},
   "outputs": [
    {
     "name": "stdout",
     "output_type": "stream",
     "text": [
      "'My First webpage'\n",
      "'Overview of Beautiful Soup'\n",
      "'Beautiful is used for Web scraping or extracting contents from a wesbite\\nSome websites are'\n",
      "'Wikipedia'\n",
      "'Browse  Wiki'\n",
      "'ISRO'\n",
      "'Browse ISRO and'\n",
      "'Inner Engineering'\n",
      "'Welcome'\n",
      "'Few random paragraphs. Some arbitary content without any relevance or significane to anyone living or dead.'\n"
     ]
    }
   ],
   "source": [
    "for string in soup.stripped_strings:\n",
    "    print(repr(string))"
   ]
  },
  {
   "cell_type": "markdown",
   "metadata": {},
   "source": [
    "#### \n",
    ".parent"
   ]
  },
  {
   "cell_type": "code",
   "execution_count": 80,
   "metadata": {},
   "outputs": [
    {
     "name": "stdout",
     "output_type": "stream",
     "text": [
      "<title>My First webpage</title>\n",
      "-----------\n",
      "<head>\n",
      "<title>My First webpage</title>\n",
      "</head>\n"
     ]
    }
   ],
   "source": [
    "title_tag = soup.title\n",
    "print(title_tag)\n",
    "print('-----------')\n",
    "print(title_tag.parent)"
   ]
  },
  {
   "cell_type": "code",
   "execution_count": 81,
   "metadata": {},
   "outputs": [
    {
     "name": "stdout",
     "output_type": "stream",
     "text": [
      "<title>My First webpage</title>\n"
     ]
    }
   ],
   "source": [
    "print(title_tag.string.parent)"
   ]
  },
  {
   "cell_type": "code",
   "execution_count": 82,
   "metadata": {},
   "outputs": [
    {
     "data": {
      "text/plain": [
       "bs4.BeautifulSoup"
      ]
     },
     "execution_count": 82,
     "metadata": {},
     "output_type": "execute_result"
    }
   ],
   "source": [
    "html_tag = soup.html\n",
    "type(html_tag.parent)"
   ]
  },
  {
   "cell_type": "markdown",
   "metadata": {},
   "source": [
    "#### .next_sibling and .previous_sibling"
   ]
  },
  {
   "cell_type": "code",
   "execution_count": 87,
   "metadata": {},
   "outputs": [
    {
     "name": "stdout",
     "output_type": "stream",
     "text": [
      "<a class=\"isro\" href=\"https://www.isro.gov.in/\" id=\"link2\">\n",
      "ISRO\n",
      "</a>\n",
      "-------\n",
      " Browse ISRO and\n",
      "\n"
     ]
    }
   ],
   "source": [
    "last_a_tag = soup.find(\"a\", id=\"link2\")\n",
    "print(last_a_tag)\n",
    "print('-------')\n",
    "print(last_a_tag.next_sibling)"
   ]
  },
  {
   "cell_type": "code",
   "execution_count": 88,
   "metadata": {},
   "outputs": [
    {
     "name": "stdout",
     "output_type": "stream",
     "text": [
      " Browse  Wiki\n",
      "\n"
     ]
    }
   ],
   "source": [
    "print(last_a_tag.previous_sibling)"
   ]
  },
  {
   "cell_type": "markdown",
   "metadata": {},
   "source": [
    "<b>.next_element</b>  - For that anchor tag, returns the thing that was parsed immediately after the anchor tag, is not the rest of that sentence: it’s the word \"ISRO\" (for the given example)<br>\n",
    "<b>.previous_element </b>- It points to whatever element was parsed immediately before this one</b>"
   ]
  },
  {
   "cell_type": "code",
   "execution_count": 89,
   "metadata": {},
   "outputs": [
    {
     "name": "stdout",
     "output_type": "stream",
     "text": [
      " Browse  Wiki\n",
      "\n",
      "\n",
      "ISRO\n",
      "\n"
     ]
    }
   ],
   "source": [
    "print(last_a_tag.previous_element)\n",
    "print(last_a_tag.next_element)"
   ]
  },
  {
   "cell_type": "code",
   "execution_count": 90,
   "metadata": {},
   "outputs": [
    {
     "name": "stdout",
     "output_type": "stream",
     "text": [
      "'\\nISRO\\n'\n",
      "' Browse ISRO and\\n'\n",
      "<a class=\"inner_engineering\" href=\"https://www.innerengineering.com/\" id=\"link3\">\n",
      "Inner Engineering\n",
      "</a>\n",
      "'\\nInner Engineering\\n'\n",
      "' Welcome\\n'\n",
      "'\\n'\n",
      "<p class=\"other_details\">\n",
      "Few random paragraphs. Some arbitary content without any relevance or significane to anyone living or dead.\n",
      "\n",
      "</p>\n",
      "'\\nFew random paragraphs. Some arbitary content without any relevance or significane to anyone living or dead.\\n\\n'\n",
      "'\\n'\n",
      "'\\n'\n",
      "'\\n'\n"
     ]
    }
   ],
   "source": [
    "for element in last_a_tag.next_elements:\n",
    "    print(repr(element))"
   ]
  },
  {
   "cell_type": "code",
   "execution_count": 91,
   "metadata": {},
   "outputs": [
    {
     "name": "stdout",
     "output_type": "stream",
     "text": [
      "' Browse  Wiki\\n'\n",
      "'\\nWikipedia\\n'\n",
      "<a class=\"wikipedia\" href=\"https://www.wikipedia.org/\" id=\"link1\">\n",
      "Wikipedia\n",
      "</a>\n",
      "'\\nBeautiful is used for Web scraping or extracting contents from a wesbite\\nSome websites are\\n'\n",
      "<p class=\"story\">\n",
      "Beautiful is used for Web scraping or extracting contents from a wesbite\n",
      "Some websites are\n",
      "<a class=\"wikipedia\" href=\"https://www.wikipedia.org/\" id=\"link1\">\n",
      "Wikipedia\n",
      "</a> Browse  Wiki\n",
      "<a class=\"isro\" href=\"https://www.isro.gov.in/\" id=\"link2\">\n",
      "ISRO\n",
      "</a> Browse ISRO and\n",
      "<a class=\"inner_engineering\" href=\"https://www.innerengineering.com/\" id=\"link3\">\n",
      "Inner Engineering\n",
      "</a> Welcome\n",
      "</p>\n",
      "'\\n'\n",
      "'\\n'\n",
      "'Overview of Beautiful Soup'\n",
      "<b>Overview of Beautiful Soup</b>\n",
      "'\\n'\n",
      "<p class=\"title\">\n",
      "<b>Overview of Beautiful Soup</b>\n",
      "</p>\n",
      "'\\n'\n",
      "<body bgcolor=\"lightgreen\">\n",
      "<p class=\"title\">\n",
      "<b>Overview of Beautiful Soup</b>\n",
      "</p>\n",
      "<p class=\"story\">\n",
      "Beautiful is used for Web scraping or extracting contents from a wesbite\n",
      "Some websites are\n",
      "<a class=\"wikipedia\" href=\"https://www.wikipedia.org/\" id=\"link1\">\n",
      "Wikipedia\n",
      "</a> Browse  Wiki\n",
      "<a class=\"isro\" href=\"https://www.isro.gov.in/\" id=\"link2\">\n",
      "ISRO\n",
      "</a> Browse ISRO and\n",
      "<a class=\"inner_engineering\" href=\"https://www.innerengineering.com/\" id=\"link3\">\n",
      "Inner Engineering\n",
      "</a> Welcome\n",
      "</p>\n",
      "<p class=\"other_details\">\n",
      "Few random paragraphs. Some arbitary content without any relevance or significane to anyone living or dead.\n",
      "\n",
      "</p>\n",
      "</body>\n",
      "'\\n'\n",
      "'\\n'\n",
      "'My First webpage'\n",
      "<title>My First webpage</title>\n",
      "'\\n'\n",
      "<head>\n",
      "<title>My First webpage</title>\n",
      "</head>\n",
      "'\\n'\n",
      "<html>\n",
      "<head>\n",
      "<title>My First webpage</title>\n",
      "</head>\n",
      "<body bgcolor=\"lightgreen\">\n",
      "<p class=\"title\">\n",
      "<b>Overview of Beautiful Soup</b>\n",
      "</p>\n",
      "<p class=\"story\">\n",
      "Beautiful is used for Web scraping or extracting contents from a wesbite\n",
      "Some websites are\n",
      "<a class=\"wikipedia\" href=\"https://www.wikipedia.org/\" id=\"link1\">\n",
      "Wikipedia\n",
      "</a> Browse  Wiki\n",
      "<a class=\"isro\" href=\"https://www.isro.gov.in/\" id=\"link2\">\n",
      "ISRO\n",
      "</a> Browse ISRO and\n",
      "<a class=\"inner_engineering\" href=\"https://www.innerengineering.com/\" id=\"link3\">\n",
      "Inner Engineering\n",
      "</a> Welcome\n",
      "</p>\n",
      "<p class=\"other_details\">\n",
      "Few random paragraphs. Some arbitary content without any relevance or significane to anyone living or dead.\n",
      "\n",
      "</p>\n",
      "</body>\n",
      "</html>\n",
      "'\\n'\n"
     ]
    }
   ],
   "source": [
    "for element in last_a_tag.previous_elements:\n",
    "    print(repr(element))"
   ]
  },
  {
   "cell_type": "code",
   "execution_count": null,
   "metadata": {},
   "outputs": [],
   "source": []
  },
  {
   "cell_type": "markdown",
   "metadata": {},
   "source": [
    "#### Find title of webpage"
   ]
  },
  {
   "cell_type": "code",
   "execution_count": 7,
   "metadata": {},
   "outputs": [
    {
     "name": "stdout",
     "output_type": "stream",
     "text": [
      "<title>My First webpage</title>\n",
      "My First webpage\n"
     ]
    }
   ],
   "source": [
    "print(soup.title)\n",
    "print(soup.title.string)"
   ]
  },
  {
   "cell_type": "markdown",
   "metadata": {},
   "source": [
    "#### Find first bold tag inside body"
   ]
  },
  {
   "cell_type": "code",
   "execution_count": 17,
   "metadata": {},
   "outputs": [
    {
     "name": "stdout",
     "output_type": "stream",
     "text": [
      "<b>Overview of Beautiful Soup</b>\n"
     ]
    }
   ],
   "source": [
    "print(soup.body.b)"
   ]
  },
  {
   "cell_type": "markdown",
   "metadata": {},
   "source": [
    "#### Find all bold tags"
   ]
  },
  {
   "cell_type": "code",
   "execution_count": 18,
   "metadata": {},
   "outputs": [
    {
     "name": "stdout",
     "output_type": "stream",
     "text": [
      "[<b>Overview of Beautiful Soup</b>]\n"
     ]
    }
   ],
   "source": [
    "print(soup.find_all('b'))"
   ]
  },
  {
   "cell_type": "markdown",
   "metadata": {},
   "source": [
    "#### Find first paragraph with a class"
   ]
  },
  {
   "cell_type": "code",
   "execution_count": 8,
   "metadata": {},
   "outputs": [
    {
     "name": "stdout",
     "output_type": "stream",
     "text": [
      "<p class=\"title\">\n",
      "<b>Overview of Beautiful Soup</b>\n",
      "</p>\n",
      "['title']\n"
     ]
    }
   ],
   "source": [
    "print(soup.p)\n",
    "print(soup.p['class'])"
   ]
  },
  {
   "cell_type": "markdown",
   "metadata": {},
   "source": [
    "#### Find first anchor tag"
   ]
  },
  {
   "cell_type": "code",
   "execution_count": 16,
   "metadata": {},
   "outputs": [
    {
     "name": "stdout",
     "output_type": "stream",
     "text": [
      "<a class=\"wikipedia\" href=\"https://www.wikipedia.org/\" id=\"link1\">\n",
      "Wikipedia\n",
      "</a>\n"
     ]
    }
   ],
   "source": [
    "print(soup.a)"
   ]
  },
  {
   "cell_type": "markdown",
   "metadata": {},
   "source": [
    "####  Find all anchor tags"
   ]
  },
  {
   "cell_type": "code",
   "execution_count": 12,
   "metadata": {},
   "outputs": [
    {
     "name": "stdout",
     "output_type": "stream",
     "text": [
      "[<a class=\"wikipedia\" href=\"https://www.wikipedia.org/\" id=\"link1\">\n",
      "Wikipedia\n",
      "</a>, <a class=\"isro\" href=\"https://www.isro.gov.in/\" id=\"link2\">\n",
      "ISRO\n",
      "</a>, <a class=\"inner_engineering\" href=\"https://www.innerengineering.com/\" id=\"link3\">\n",
      "Inner Engineering\n",
      "</a>]\n"
     ]
    }
   ],
   "source": [
    "print(soup.find_all('a'))"
   ]
  },
  {
   "cell_type": "markdown",
   "metadata": {},
   "source": [
    "#### Find anchor tag corresponding to a particular link"
   ]
  },
  {
   "cell_type": "code",
   "execution_count": 13,
   "metadata": {},
   "outputs": [
    {
     "data": {
      "text/plain": [
       "<a class=\"inner_engineering\" href=\"https://www.innerengineering.com/\" id=\"link3\">\n",
       "Inner Engineering\n",
       "</a>"
      ]
     },
     "execution_count": 13,
     "metadata": {},
     "output_type": "execute_result"
    }
   ],
   "source": [
    "soup.find(id=\"link3\")"
   ]
  },
  {
   "cell_type": "markdown",
   "metadata": {},
   "source": [
    "#### Find all links (URLs)"
   ]
  },
  {
   "cell_type": "code",
   "execution_count": 11,
   "metadata": {},
   "outputs": [
    {
     "name": "stdout",
     "output_type": "stream",
     "text": [
      "https://www.wikipedia.org/\n",
      "https://www.isro.gov.in/\n",
      "https://www.innerengineering.com/\n"
     ]
    }
   ],
   "source": [
    "for i in soup.find_all('a'):\n",
    "    print(i.get('href'))"
   ]
  },
  {
   "cell_type": "markdown",
   "metadata": {},
   "source": [
    "#### Extract all text from a page"
   ]
  },
  {
   "cell_type": "code",
   "execution_count": 14,
   "metadata": {},
   "outputs": [
    {
     "name": "stdout",
     "output_type": "stream",
     "text": [
      "\n",
      "\n",
      "\n",
      "My First webpage\n",
      "\n",
      "\n",
      "\n",
      "Overview of Beautiful Soup\n",
      "\n",
      "\n",
      "Beautiful is used for Web scraping or extracting contents from a wesbite\n",
      "Some websites are\n",
      "\n",
      "Wikipedia\n",
      "\n",
      "   ,\n",
      "\n",
      "ISRO\n",
      "\n",
      "and\n",
      "\n",
      "Inner Engineering\n",
      "\n",
      "\n",
      "\n",
      "Few random paragraphs. Some arbitary content without any relevance or significane to anyone living or dead.\n",
      "\n",
      "\n",
      "\n",
      "\n",
      "\n"
     ]
    }
   ],
   "source": [
    "print(soup.get_text())"
   ]
  },
  {
   "cell_type": "markdown",
   "metadata": {},
   "source": [
    "#### Find all"
   ]
  },
  {
   "cell_type": "code",
   "execution_count": 96,
   "metadata": {},
   "outputs": [
    {
     "name": "stdout",
     "output_type": "stream",
     "text": [
      "[<title>My First webpage</title>]\n"
     ]
    }
   ],
   "source": [
    "print(soup.find_all(\"title\"))"
   ]
  },
  {
   "cell_type": "code",
   "execution_count": 92,
   "metadata": {},
   "outputs": [
    {
     "name": "stdout",
     "output_type": "stream",
     "text": [
      "[<p class=\"title\">\n",
      "<b>Overview of Beautiful Soup</b>\n",
      "</p>]\n"
     ]
    }
   ],
   "source": [
    "print(soup.find_all(\"p\", \"title\"))"
   ]
  },
  {
   "cell_type": "code",
   "execution_count": 93,
   "metadata": {},
   "outputs": [
    {
     "name": "stdout",
     "output_type": "stream",
     "text": [
      "[<a class=\"wikipedia\" href=\"https://www.wikipedia.org/\" id=\"link1\">\n",
      "Wikipedia\n",
      "</a>, <a class=\"isro\" href=\"https://www.isro.gov.in/\" id=\"link2\">\n",
      "ISRO\n",
      "</a>, <a class=\"inner_engineering\" href=\"https://www.innerengineering.com/\" id=\"link3\">\n",
      "Inner Engineering\n",
      "</a>]\n"
     ]
    }
   ],
   "source": [
    "print(soup.find_all(\"a\"))"
   ]
  },
  {
   "cell_type": "code",
   "execution_count": 95,
   "metadata": {},
   "outputs": [
    {
     "name": "stdout",
     "output_type": "stream",
     "text": [
      "[<a class=\"isro\" href=\"https://www.isro.gov.in/\" id=\"link2\">\n",
      "ISRO\n",
      "</a>]\n"
     ]
    }
   ],
   "source": [
    "print(soup.find_all(id=\"link2\"))"
   ]
  },
  {
   "cell_type": "code",
   "execution_count": 97,
   "metadata": {},
   "outputs": [],
   "source": [
    "import re\n",
    "soup.find(string=re.compile(\"sisters\"))"
   ]
  },
  {
   "cell_type": "markdown",
   "metadata": {},
   "source": [
    "#### Searching by CSS class"
   ]
  },
  {
   "cell_type": "code",
   "execution_count": 98,
   "metadata": {},
   "outputs": [
    {
     "data": {
      "text/plain": [
       "[<a class=\"isro\" href=\"https://www.isro.gov.in/\" id=\"link2\">\n",
       " ISRO\n",
       " </a>]"
      ]
     },
     "execution_count": 98,
     "metadata": {},
     "output_type": "execute_result"
    }
   ],
   "source": [
    "soup.find_all(\"a\", class_=\"isro\")"
   ]
  },
  {
   "cell_type": "code",
   "execution_count": 99,
   "metadata": {},
   "outputs": [
    {
     "data": {
      "text/plain": [
       "[<p class=\"title\">\n",
       " <b>Overview of Beautiful Soup</b>\n",
       " </p>]"
      ]
     },
     "execution_count": 99,
     "metadata": {},
     "output_type": "execute_result"
    }
   ],
   "source": [
    "soup.find_all(\"p\", class_=\"title\")"
   ]
  },
  {
   "cell_type": "code",
   "execution_count": 100,
   "metadata": {},
   "outputs": [
    {
     "data": {
      "text/plain": [
       "<title>My First webpage</title>"
      ]
     },
     "execution_count": 100,
     "metadata": {},
     "output_type": "execute_result"
    }
   ],
   "source": [
    "soup.find('title')"
   ]
  },
  {
   "cell_type": "code",
   "execution_count": 101,
   "metadata": {},
   "outputs": [
    {
     "data": {
      "text/plain": [
       "[<title>My First webpage</title>]"
      ]
     },
     "execution_count": 101,
     "metadata": {},
     "output_type": "execute_result"
    }
   ],
   "source": [
    "soup.find_all('title')"
   ]
  },
  {
   "cell_type": "code",
   "execution_count": null,
   "metadata": {},
   "outputs": [],
   "source": []
  }
 ],
 "metadata": {
  "kernelspec": {
   "display_name": "Python 3",
   "language": "python",
   "name": "python3"
  },
  "language_info": {
   "codemirror_mode": {
    "name": "ipython",
    "version": 3
   },
   "file_extension": ".py",
   "mimetype": "text/x-python",
   "name": "python",
   "nbconvert_exporter": "python",
   "pygments_lexer": "ipython3",
   "version": "3.7.3"
  }
 },
 "nbformat": 4,
 "nbformat_minor": 2
}
