{
 "cells": [
  {
   "cell_type": "code",
   "execution_count": 1,
   "metadata": {},
   "outputs": [],
   "source": [
    "import requests\n",
    "from bs4 import BeautifulSoup"
   ]
  },
  {
   "cell_type": "code",
   "execution_count": 2,
   "metadata": {},
   "outputs": [],
   "source": [
    "headers = {'User-Agent': 'Mozilla/5.0 (Windows NT 10.0 ; Win64; x64) AppleWebKit/537.36 (KHTML, like Gecko) Chrome/58.0.3029.110 Safari/537.3'}"
   ]
  },
  {
   "cell_type": "markdown",
   "metadata": {},
   "source": [
    "#### Scraping Data Analyst Jobs on Naukri.com with BS"
   ]
  },
  {
   "cell_type": "code",
   "execution_count": 23,
   "metadata": {},
   "outputs": [],
   "source": [
    "# url =\"https://www.naukri.com/data-analyst-jobs-in-delhi-ncr\"\n",
    "u1 = \"https://www.shine.com/job-search/data-analyst-jobs-in-delhi\"\n",
    "response = requests.get(u1)"
   ]
  },
  {
   "cell_type": "code",
   "execution_count": 24,
   "metadata": {},
   "outputs": [
    {
     "name": "stdout",
     "output_type": "stream",
     "text": [
      "b'\\xef\\xbb\\xbf<!DOCTYPE html><html lang=\"en\"><head><title>\\n    \\n        Data Analyst Jobs in Delhi (Feb 2020) - 408 Active Vacancies - Shine.com\\n    \\n</title><link rel=\"manifest\" href=\"/static/manifest.json\"><meta name=\"google-signin-scope\" content=\"profile email\"><meta name=\"google-signin-client_id\" content=\"284765467291-lo164ec1u4pcnhtrbicird7tsdt553sm.apps.googleusercontent.com\"><meta name=\"viewport\" cont'\n"
     ]
    }
   ],
   "source": [
    "print(response.content[:400])"
   ]
  },
  {
   "cell_type": "code",
   "execution_count": 25,
   "metadata": {},
   "outputs": [
    {
     "name": "stdout",
     "output_type": "stream",
     "text": [
      "﻿<!DOCTYPE html><html lang=\"en\"><head><title>\n",
      "    \n",
      "        Data Analyst Jobs in Delhi (Feb 2020) - 408 Active Vacancies - Shine.com\n",
      "    \n",
      "</title><link rel=\"manifest\" href=\"/static/manifest.json\"><meta\n"
     ]
    }
   ],
   "source": [
    "response = requests.get(u1, headers=headers)\n",
    "print(response.text[:200])"
   ]
  },
  {
   "cell_type": "code",
   "execution_count": 26,
   "metadata": {},
   "outputs": [],
   "source": [
    "soup = BeautifulSoup(response.content, features=\"lxml\")"
   ]
  },
  {
   "cell_type": "markdown",
   "metadata": {},
   "source": [
    "#### Extract Company_Name"
   ]
  },
  {
   "cell_type": "code",
   "execution_count": 30,
   "metadata": {},
   "outputs": [
    {
     "name": "stdout",
     "output_type": "stream",
     "text": [
      "['\\n                                                        \\n                                                        iHackers\\n                                                        \\n                                                    ', '\\n                                                        \\n                                                        Zobello\\n                                                        \\n                                                    ', '\\n                                                        \\n                                                        Capital Placement Services\\n                                                        \\n                                                    ', '\\n                                                        \\n                                                        GenNext India Private Limited\\n                                                        \\n                                                    ', '\\n                                                        \\n                                                        Electrobrain Modern Technologies private Limited\\n                                                        \\n                                                    ', '\\n                                                        \\n                                                        Squad\\n                                                        \\n                                                    ', '\\n                                                        \\n                                                        Visual Website Optimizer\\n                                                        \\n                                                    ', '\\n                                                        \\n                                                        Zoxima\\n                                                        \\n                                                    ', '\\n                                                        \\n                                                        Aaneel Infotech Private limited\\n                                                        \\n                                                    ', '\\n                                                        \\n                                                        BrainyDemics\\n                                                        \\n                                                    ', '\\n                                                        \\n                                                        CRMNEXT\\n                                                        \\n                                                    ', '\\n                                                        \\n                                                        Mirror Consultancy Services\\n                                                        \\n                                                    ', '\\n                                                        \\n                                                        CRMNEXT\\n                                                        \\n                                                    ', '\\n                                                        \\n                                                        Credencys Solutions Pvt. Ltd\\n                                                        \\n                                                    ', '\\n                                                        \\n                                                        Imperial Training and Consultants\\n                                                        \\n                                                    ', '\\n                                                        \\n                                                        Zobello\\n                                                        \\n                                                    ', '\\n                                                        \\n                                                        Idea Ventures Pvt. Ltd\\n                                                        \\n                                                    ', '\\n                                                        \\n                                                        ANR Software Pvt. Ltd.\\n                                                        \\n                                                    ', '\\n                                                        \\n                                                        Dimentics Info Tech Pvt. Ltd.\\n                                                        \\n                                                    ', '\\n                                                        \\n                                                        edata4you\\n                                                        \\n                                                    ']\n"
     ]
    }
   ],
   "source": [
    "org_name=[]\n",
    "# for i in soup.find_all('li',class_='snp_cnm'):\n",
    "#     print(i.text)\n",
    "for i in soup.find_all('li',class_='snp_cnm'):\n",
    "    org_name.append(i.text)\n",
    "print(org_name)"
   ]
  },
  {
   "cell_type": "code",
   "execution_count": 31,
   "metadata": {},
   "outputs": [
    {
     "data": {
      "text/plain": [
       "['                                                                                                                iHackers                                                                                                            ',\n",
       " '                                                                                                                Zobello                                                                                                            ',\n",
       " '                                                                                                                Capital Placement Services                                                                                                            ',\n",
       " '                                                                                                                GenNext India Private Limited                                                                                                            ',\n",
       " '                                                                                                                Electrobrain Modern Technologies private Limited                                                                                                            ',\n",
       " '                                                                                                                Squad                                                                                                            ',\n",
       " '                                                                                                                Visual Website Optimizer                                                                                                            ',\n",
       " '                                                                                                                Zoxima                                                                                                            ',\n",
       " '                                                                                                                Aaneel Infotech Private limited                                                                                                            ',\n",
       " '                                                                                                                BrainyDemics                                                                                                            ',\n",
       " '                                                                                                                CRMNEXT                                                                                                            ',\n",
       " '                                                                                                                Mirror Consultancy Services                                                                                                            ',\n",
       " '                                                                                                                CRMNEXT                                                                                                            ',\n",
       " '                                                                                                                Credencys Solutions Pvt. Ltd                                                                                                            ',\n",
       " '                                                                                                                Imperial Training and Consultants                                                                                                            ',\n",
       " '                                                                                                                Zobello                                                                                                            ',\n",
       " '                                                                                                                Idea Ventures Pvt. Ltd                                                                                                            ',\n",
       " '                                                                                                                ANR Software Pvt. Ltd.                                                                                                            ',\n",
       " '                                                                                                                Dimentics Info Tech Pvt. Ltd.                                                                                                            ',\n",
       " '                                                                                                                edata4you                                                                                                            ']"
      ]
     },
     "execution_count": 31,
     "metadata": {},
     "output_type": "execute_result"
    }
   ],
   "source": [
    "org_name = [i.replace(\"\\n\",\"\") for i in org_name]\n",
    "org_name"
   ]
  },
  {
   "cell_type": "code",
   "execution_count": 33,
   "metadata": {},
   "outputs": [
    {
     "name": "stdout",
     "output_type": "stream",
     "text": [
      "['iHackers', 'Zobello', 'CapitalPlacementServices', 'GenNextIndiaPrivateLimited', 'ElectrobrainModernTechnologiesprivateLimited', 'Squad', 'VisualWebsiteOptimizer', 'Zoxima', 'AaneelInfotechPrivatelimited', 'BrainyDemics', 'CRMNEXT', 'MirrorConsultancyServices', 'CRMNEXT', 'CredencysSolutionsPvt.Ltd', 'ImperialTrainingandConsultants', 'Zobello', 'IdeaVenturesPvt.Ltd', 'ANRSoftwarePvt.Ltd.', 'DimenticsInfoTechPvt.Ltd.', 'edata4you']\n",
      "20\n"
     ]
    }
   ],
   "source": [
    "org_name = [i.replace(\" \",\"\") for i in org_name]\n",
    "print(org_name)\n",
    "print(len(org_name))"
   ]
  },
  {
   "cell_type": "markdown",
   "metadata": {},
   "source": [
    "### Extract Min _Exp"
   ]
  },
  {
   "cell_type": "code",
   "execution_count": 39,
   "metadata": {},
   "outputs": [
    {
     "name": "stdout",
     "output_type": "stream",
     "text": [
      "['\\n                                                            1 to 4 Yrs\\n                                                        ', '\\n                                                            1 to 2 Yrs\\n                                                        ', '\\n                                                            1 to 6 Yrs\\n                                                        ', '\\n                                                            2 to 5 Yrs\\n                                                        ', '\\n                                                            5 to 10 Yrs\\n                                                        ', '\\n                                                            2 to 3 Yrs\\n                                                        ', '\\n                                                            1 to 3 Yrs\\n                                                        ', '\\n                                                            3 to 8 Yrs\\n                                                        ', '\\n                                                            8 to 13 Yrs\\n                                                        ', '\\n                                                            3 to 7 Yrs\\n                                                        ', '\\n                                                            2 to 7 Yrs\\n                                                        ', '\\n                                                            0 to 3 Yrs\\n                                                        ', '\\n                                                            2 to 7 Yrs\\n                                                        ', '\\n                                                            2 to 7 Yrs\\n                                                        ', '\\n                                                            0 to 2 Yrs\\n                                                        ', '\\n                                                            1 to 6 Yrs\\n                                                        ', '\\n                                                            2 to 5 Yrs\\n                                                        ', '\\n                                                            2 to 5 Yrs\\n                                                        ', '\\n                                                            2 to 5 Yrs\\n                                                        ', '\\n                                                            2 to 5 Yrs\\n                                                        ']\n"
     ]
    }
   ],
   "source": [
    "min_exp=[]\n",
    "# for i in soup.find_all('span',class_='snp_yoe'):\n",
    "#     print(i.text)\n",
    "\n",
    "for i in soup.find_all('span',class_='snp_yoe'):\n",
    "    min_exp.append(i.text)\n",
    "print(min_exp)"
   ]
  },
  {
   "cell_type": "code",
   "execution_count": 40,
   "metadata": {},
   "outputs": [
    {
     "data": {
      "text/plain": [
       "['                                                            1 to 4 Yrs                                                        ',\n",
       " '                                                            1 to 2 Yrs                                                        ',\n",
       " '                                                            1 to 6 Yrs                                                        ',\n",
       " '                                                            2 to 5 Yrs                                                        ',\n",
       " '                                                            5 to 10 Yrs                                                        ',\n",
       " '                                                            2 to 3 Yrs                                                        ',\n",
       " '                                                            1 to 3 Yrs                                                        ',\n",
       " '                                                            3 to 8 Yrs                                                        ',\n",
       " '                                                            8 to 13 Yrs                                                        ',\n",
       " '                                                            3 to 7 Yrs                                                        ',\n",
       " '                                                            2 to 7 Yrs                                                        ',\n",
       " '                                                            0 to 3 Yrs                                                        ',\n",
       " '                                                            2 to 7 Yrs                                                        ',\n",
       " '                                                            2 to 7 Yrs                                                        ',\n",
       " '                                                            0 to 2 Yrs                                                        ',\n",
       " '                                                            1 to 6 Yrs                                                        ',\n",
       " '                                                            2 to 5 Yrs                                                        ',\n",
       " '                                                            2 to 5 Yrs                                                        ',\n",
       " '                                                            2 to 5 Yrs                                                        ',\n",
       " '                                                            2 to 5 Yrs                                                        ']"
      ]
     },
     "execution_count": 40,
     "metadata": {},
     "output_type": "execute_result"
    }
   ],
   "source": [
    "min_exp = [i.replace(\"\\n\",\"\") for i in min_exp]\n",
    "min_exp"
   ]
  },
  {
   "cell_type": "code",
   "execution_count": 41,
   "metadata": {},
   "outputs": [
    {
     "name": "stdout",
     "output_type": "stream",
     "text": [
      "['1to4Yrs', '1to2Yrs', '1to6Yrs', '2to5Yrs', '5to10Yrs', '2to3Yrs', '1to3Yrs', '3to8Yrs', '8to13Yrs', '3to7Yrs', '2to7Yrs', '0to3Yrs', '2to7Yrs', '2to7Yrs', '0to2Yrs', '1to6Yrs', '2to5Yrs', '2to5Yrs', '2to5Yrs', '2to5Yrs']\n",
      "20\n"
     ]
    }
   ],
   "source": [
    "min_exp = [i.replace(\" \",\"\") for i in min_exp]\n",
    "print(min_exp)\n"
   ]
  },
  {
   "cell_type": "code",
   "execution_count": 43,
   "metadata": {},
   "outputs": [
    {
     "name": "stdout",
     "output_type": "stream",
     "text": [
      "['1to4', '1to2', '1to6', '2to5', '5to10', '2to3', '1to3', '3to8', '8to13', '3to7', '2to7', '0to3', '2to7', '2to7', '0to2', '1to6', '2to5', '2to5', '2to5', '2to5']\n"
     ]
    }
   ],
   "source": [
    "min_exp = [i.replace(\"Yrs\",\"\") for i in min_exp]\n",
    "print(min_exp)"
   ]
  },
  {
   "cell_type": "code",
   "execution_count": 44,
   "metadata": {},
   "outputs": [
    {
     "name": "stdout",
     "output_type": "stream",
     "text": [
      "['1-4', '1-2', '1-6', '2-5', '5-10', '2-3', '1-3', '3-8', '8-13', '3-7', '2-7', '0-3', '2-7', '2-7', '0-2', '1-6', '2-5', '2-5', '2-5', '2-5']\n",
      "20\n"
     ]
    }
   ],
   "source": [
    "min_exp = [i.replace(\"to\",\"-\") for i in min_exp]\n",
    "print(min_exp)\n",
    "print(len(min_exp))"
   ]
  },
  {
   "cell_type": "markdown",
   "metadata": {},
   "source": [
    "#### Extract Job Location"
   ]
  },
  {
   "cell_type": "code",
   "execution_count": 88,
   "metadata": {},
   "outputs": [
    {
     "name": "stdout",
     "output_type": "stream",
     "text": [
      "['\\n                                                            Delhi\\n                                                        ', '\\n                                                            Delhi\\n                                                        ', '\\n                                                            Delhi\\n                                                        ', '\\n                                                            Ghaziabad\\n                                                        ', '\\n                                                            Delhi\\n                                                        ', '\\n                                                            Delhi\\n                                                        ', '\\n                                                            Delhi\\n                                                        ', '\\n                                                            Noida\\n                                                        ', '\\n                                                            Noida\\n                                                        ', '\\n                                                            Delhi\\n                                                        ', '\\n                                                            Noida\\n                                                        ', '\\n                                                            Delhi\\n                                                        ', '\\n                                                            Noida\\n                                                        ', '\\n                                                            Delhi\\n                                                        ', '\\n                                                            Noida\\n                                                        ', '\\n                                                            Delhi\\n                                                        ', '\\n                                                            Delhi\\n                                                        ', '\\n                                                            Noida\\n                                                        ', '\\n                                                            Delhi\\n                                                        ', '\\n                                                            Delhi\\n                                                        ']\n",
      "20\n"
     ]
    }
   ],
   "source": [
    "loc=[]\n",
    "# for i in soup.find_all('em',attrs={'snp_loc'}):\n",
    "#     print(i)\n",
    "# for i in soup.find_all('em',attrs={'snp_loc'}):\n",
    "#     print(i.text)\n",
    "for i in soup.find_all('em',attrs={'snp_loc'}):\n",
    "    loc.append(i.text)\n",
    "print(loc)\n",
    "print(len(loc))"
   ]
  },
  {
   "cell_type": "code",
   "execution_count": 89,
   "metadata": {},
   "outputs": [
    {
     "name": "stdout",
     "output_type": "stream",
     "text": [
      "['                                                            Delhi                                                        ', '                                                            Delhi                                                        ', '                                                            Delhi                                                        ', '                                                            Ghaziabad                                                        ', '                                                            Delhi                                                        ', '                                                            Delhi                                                        ', '                                                            Delhi                                                        ', '                                                            Noida                                                        ', '                                                            Noida                                                        ', '                                                            Delhi                                                        ', '                                                            Noida                                                        ', '                                                            Delhi                                                        ', '                                                            Noida                                                        ', '                                                            Delhi                                                        ', '                                                            Noida                                                        ', '                                                            Delhi                                                        ', '                                                            Delhi                                                        ', '                                                            Noida                                                        ', '                                                            Delhi                                                        ', '                                                            Delhi                                                        ']\n",
      "20\n"
     ]
    }
   ],
   "source": [
    "loc = [i.replace(\"\\n\",\"\") for i in loc]\n",
    "# loc = [i.replace(\"to\",\"-\") for i in loc]\n",
    "\n",
    "print(loc)\n",
    "print(len(loc))"
   ]
  },
  {
   "cell_type": "code",
   "execution_count": 90,
   "metadata": {},
   "outputs": [
    {
     "name": "stdout",
     "output_type": "stream",
     "text": [
      "['Delhi', 'Delhi', 'Delhi', 'Ghaziabad', 'Delhi', 'Delhi', 'Delhi', 'Noida', 'Noida', 'Delhi', 'Noida', 'Delhi', 'Noida', 'Delhi', 'Noida', 'Delhi', 'Delhi', 'Noida', 'Delhi', 'Delhi']\n",
      "20\n"
     ]
    }
   ],
   "source": [
    "loc = [i.replace(\" \",\"\") for i in loc]\n",
    "print(loc)\n",
    "print(len(loc))"
   ]
  },
  {
   "cell_type": "markdown",
   "metadata": {},
   "source": [
    "#### Extract Job Description"
   ]
  },
  {
   "cell_type": "code",
   "execution_count": 65,
   "metadata": {},
   "outputs": [
    {
     "name": "stdout",
     "output_type": "stream",
     "text": [
      "['\\n                                                        \\n                                                        Managing master data, including creation, updates, and deletion. Managing users and user roles. Provide quality assurance of imported data, working with quality assurance analyst if necessary. Commissioning and decommissioning of\\n                                                        \\n                                                    ', '\\n                                                        \\n                                                        Zobello is looking for a Data\\xa0Analyst Associate who will be responsible for presenting data to derive actionable results. What we are looking out for: Graduate with 1 -2 years\\n                                                        \\n                                                    ', '\\n                                                        \\n                                                        Use GIS knowledge to gather and update mapping data * Working with OSM data model and data Working with large datasets * Developing automated tools, set up and improve data', '\\n                                                        \\n                                                        Analyze the daily MIS of associates. Weekly follow up on lead quality. Conversion support. Analyze data location wise and identify the reasons for changes in conversion trend. Provide real time\\n                                                        \\n                                                    ', '\\n                                                        \\n                                                        - Interpret data, analyze results using statistical techniques and provide ongoing reports - Locate and define new process improvement opportunities - Work with management to prioritise business and information needs\\n                                                        \\n                                                    ', '\\n                                                        \\n                                                        Ingesting data from various sources and manipulating it in the desired format Identifying patterns and trends in data sets Running statistical tests to determine the cause behind an observation Automating\\n                                                        \\n                                                    ', '\\n                                                        \\n                                                        The person will play a key role in one of the most strategic areas of the company . You will support data-driven decision-making and conduct data analysis to develop new\\n                                                        \\n                                                    ', \"\\n                                                        \\n                                                        TITLE Data\\xa0Analysts LOCATION Noida EXPERIENCE 3- 8 yrs JOB INFORMATION Very good programming skills, preferably in R' language Strong Experience in MySQL Ability to grasp nuances of business quickly\\n                                                        \\n                                                    \", 'Data\\xa0Analyst Total Years of Experience: 3 8 Year Key skills: Good Analytical Skills, Data collection, Data mining, Critical Thinking, Math Skills ,\\n                                                        \\n                                                    ', 'Data\\xa0Analyst,\\n                                                        \\n                                                    ', \"\\n                                                        \\n                                                        Job Title: Data Modeller/Data\\xa0Analyst/ Machine Learning Engineers Location : Noida, India Experience : 2 - 7 Years Who we are: Acidaes Solutions (CRMNEXT) is the World's Most Powerful Financial\\n                                                        \\n                                                    \", '\\n                                                        \\n                                                        we are looking for candidate who have ability to operate computer and to generate data . Salary 1 Lac To 3 Lac 75 Thousand P.A. Industry Fresher / Trainee Work\\n                                                        \\n                                                    ', \"\\n                                                        \\n                                                        Job Title: Data Modeller/Data\\xa0Analyst/ Machine Learning Engineers Location : Noida, India Experience : 2 - 7 Years Who we are: Acidaes Solutions (CRMNEXT) is the World's Most Powerful Financial\\n                                                        \\n                                                    \", 'Data\\xa0Analyst 1- 3 Years Exp - Credencys Solutions Inc. Data\\xa0Analyst 1- 3 Years Exp Data\\xa0Analyst 1- 3 Years Exp We are looking for a passionate Data\\xa0Analyst', '\\n                                                        \\n                                                        Job Description Data Exploration & Analysis. Also, show teams and ensuring other teams correctly Should have data extraction from different sources To generate leads and data profiling. Positive Attitude Flexible\\n                                                        \\n                                                    ', '\\n                                                        \\n                                                        Job Description : Proficient with reporting and statistical tools like Microsoft Excel , SPSS , Adobe etc. Ability to work in a team. Good Analytical skills Experience in E-commerce industry\\n                                                        \\n                                                    ', '\\n                                                        \\n                                                        Hiring for candidates for Data Analytics R D / GMP / NABL Product Development Services Development Project Managmeent Collaborations JVs.,\\n                                                        \\n                                                    ', '\\n                                                        \\n                                                        Job Description:Interpret data , analyse results using statistical techniques and provide ongoing reports Develop and implement data collection systems , data analytics and other strategies that optimize statistical efficiency and\\n                                                        \\n                                                    ', 'Data\\xa0Analyst New Delhi Apply here,\\n                                                        \\n                                                    ', 'Data\\xa0Analyst\\xa0Data\\xa0analysts collect, process and perform statistical analyses of data. Their skills may not be as advanced as data scientists (e.g. they may not be able to create\\n                                                        \\n                                                    ']\n",
      "20\n"
     ]
    }
   ],
   "source": [
    "jd=[]\n",
    "# for i in soup.find_all('li',attrs={'srcresult'}):\n",
    "#     print(i)\n",
    "# for i in soup.find_all('li',attrs={'srcresult'}):\n",
    "#     print(i.text)\n",
    "for i in soup.find_all('li',attrs={'srcresult'}):\n",
    "    jd.append(i.text)\n",
    "print(jd)\n",
    "print(len(jd))"
   ]
  },
  {
   "cell_type": "code",
   "execution_count": 66,
   "metadata": {},
   "outputs": [
    {
     "name": "stdout",
     "output_type": "stream",
     "text": [
      "['                                                                                                                Managing master data, including creation, updates, and deletion. Managing users and user roles. Provide quality assurance of imported data, working with quality assurance analyst if necessary. Commissioning and decommissioning of                                                                                                            ', '                                                                                                                Zobello is looking for a Data\\xa0Analyst Associate who will be responsible for presenting data to derive actionable results. What we are looking out for: Graduate with 1 -2 years                                                                                                            ', '                                                                                                                Use GIS knowledge to gather and update mapping data * Working with OSM data model and data Working with large datasets * Developing automated tools, set up and improve data', '                                                                                                                Analyze the daily MIS of associates. Weekly follow up on lead quality. Conversion support. Analyze data location wise and identify the reasons for changes in conversion trend. Provide real time                                                                                                            ', '                                                                                                                - Interpret data, analyze results using statistical techniques and provide ongoing reports - Locate and define new process improvement opportunities - Work with management to prioritise business and information needs                                                                                                            ', '                                                                                                                Ingesting data from various sources and manipulating it in the desired format Identifying patterns and trends in data sets Running statistical tests to determine the cause behind an observation Automating                                                                                                            ', '                                                                                                                The person will play a key role in one of the most strategic areas of the company . You will support data-driven decision-making and conduct data analysis to develop new                                                                                                            ', \"                                                                                                                TITLE Data\\xa0Analysts LOCATION Noida EXPERIENCE 3- 8 yrs JOB INFORMATION Very good programming skills, preferably in R' language Strong Experience in MySQL Ability to grasp nuances of business quickly                                                                                                            \", 'Data\\xa0Analyst Total Years of Experience: 3 8 Year Key skills: Good Analytical Skills, Data collection, Data mining, Critical Thinking, Math Skills ,                                                                                                            ', 'Data\\xa0Analyst,                                                                                                            ', \"                                                                                                                Job Title: Data Modeller/Data\\xa0Analyst/ Machine Learning Engineers Location : Noida, India Experience : 2 - 7 Years Who we are: Acidaes Solutions (CRMNEXT) is the World's Most Powerful Financial                                                                                                            \", '                                                                                                                we are looking for candidate who have ability to operate computer and to generate data . Salary 1 Lac To 3 Lac 75 Thousand P.A. Industry Fresher / Trainee Work                                                                                                            ', \"                                                                                                                Job Title: Data Modeller/Data\\xa0Analyst/ Machine Learning Engineers Location : Noida, India Experience : 2 - 7 Years Who we are: Acidaes Solutions (CRMNEXT) is the World's Most Powerful Financial                                                                                                            \", 'Data\\xa0Analyst 1- 3 Years Exp - Credencys Solutions Inc. Data\\xa0Analyst 1- 3 Years Exp Data\\xa0Analyst 1- 3 Years Exp We are looking for a passionate Data\\xa0Analyst', '                                                                                                                Job Description Data Exploration & Analysis. Also, show teams and ensuring other teams correctly Should have data extraction from different sources To generate leads and data profiling. Positive Attitude Flexible                                                                                                            ', '                                                                                                                Job Description : Proficient with reporting and statistical tools like Microsoft Excel , SPSS , Adobe etc. Ability to work in a team. Good Analytical skills Experience in E-commerce industry                                                                                                            ', '                                                                                                                Hiring for candidates for Data Analytics R D / GMP / NABL Product Development Services Development Project Managmeent Collaborations JVs.,                                                                                                            ', '                                                                                                                Job Description:Interpret data , analyse results using statistical techniques and provide ongoing reports Develop and implement data collection systems , data analytics and other strategies that optimize statistical efficiency and                                                                                                            ', 'Data\\xa0Analyst New Delhi Apply here,                                                                                                            ', 'Data\\xa0Analyst\\xa0Data\\xa0analysts collect, process and perform statistical analyses of data. Their skills may not be as advanced as data scientists (e.g. they may not be able to create                                                                                                            ']\n"
     ]
    }
   ],
   "source": [
    "jd = [i.replace(\"\\n\",\"\") for i in jd]\n",
    "print(jd)"
   ]
  },
  {
   "cell_type": "code",
   "execution_count": 67,
   "metadata": {},
   "outputs": [
    {
     "name": "stdout",
     "output_type": "stream",
     "text": [
      "['Managing master data, including creation, updates, and deletion. Managing users and user roles. Provide quality assurance of imported data, working with quality assurance analyst if necessary. Commissioning and decommissioning of', 'Zobello is looking for a Data\\xa0Analyst Associate who will be responsible for presenting data to derive actionable results. What we are looking out for: Graduate with 1 -2 years', 'Use GIS knowledge to gather and update mapping data * Working with OSM data model and data Working with large datasets * Developing automated tools, set up and improve data', 'Analyze the daily MIS of associates. Weekly follow up on lead quality. Conversion support. Analyze data location wise and identify the reasons for changes in conversion trend. Provide real time', '- Interpret data, analyze results using statistical techniques and provide ongoing reports - Locate and define new process improvement opportunities - Work with management to prioritise business and information needs', 'Ingesting data from various sources and manipulating it in the desired format Identifying patterns and trends in data sets Running statistical tests to determine the cause behind an observation Automating', 'The person will play a key role in one of the most strategic areas of the company . You will support data-driven decision-making and conduct data analysis to develop new', \"TITLE Data\\xa0Analysts LOCATION Noida EXPERIENCE 3- 8 yrs JOB INFORMATION Very good programming skills, preferably in R' language Strong Experience in MySQL Ability to grasp nuances of business quickly\", 'Data\\xa0Analyst Total Years of Experience: 3 8 Year Key skills: Good Analytical Skills, Data collection, Data mining, Critical Thinking, Math Skills ,', 'Data\\xa0Analyst,', \"Job Title: Data Modeller/Data\\xa0Analyst/ Machine Learning Engineers Location : Noida, India Experience : 2 - 7 Years Who we are: Acidaes Solutions (CRMNEXT) is the World's Most Powerful Financial\", 'we are looking for candidate who have ability to operate computer and to generate data . Salary 1 Lac To 3 Lac 75 Thousand P.A. Industry Fresher / Trainee Work', \"Job Title: Data Modeller/Data\\xa0Analyst/ Machine Learning Engineers Location : Noida, India Experience : 2 - 7 Years Who we are: Acidaes Solutions (CRMNEXT) is the World's Most Powerful Financial\", 'Data\\xa0Analyst 1- 3 Years Exp - Credencys Solutions Inc. Data\\xa0Analyst 1- 3 Years Exp Data\\xa0Analyst 1- 3 Years Exp We are looking for a passionate Data\\xa0Analyst', 'Job Description Data Exploration & Analysis. Also, show teams and ensuring other teams correctly Should have data extraction from different sources To generate leads and data profiling. Positive Attitude Flexible', 'Job Description : Proficient with reporting and statistical tools like Microsoft Excel , SPSS , Adobe etc. Ability to work in a team. Good Analytical skills Experience in E-commerce industry', 'Hiring for candidates for Data Analytics R D / GMP / NABL Product Development Services Development Project Managmeent Collaborations JVs.,', 'Job Description:Interpret data , analyse results using statistical techniques and provide ongoing reports Develop and implement data collection systems , data analytics and other strategies that optimize statistical efficiency and', 'Data\\xa0Analyst New Delhi Apply here,', 'Data\\xa0Analyst\\xa0Data\\xa0analysts collect, process and perform statistical analyses of data. Their skills may not be as advanced as data scientists (e.g. they may not be able to create']\n",
      "20\n"
     ]
    }
   ],
   "source": [
    "jd = [i.replace(\"  \",\"\") for i in jd]\n",
    "print(jd)\n",
    "print(len(jd))"
   ]
  },
  {
   "cell_type": "code",
   "execution_count": 69,
   "metadata": {},
   "outputs": [
    {
     "name": "stdout",
     "output_type": "stream",
     "text": [
      "['Managing master data, including creation, updates, and deletion. Managing users and user roles. Provide quality assurance of imported data, working with quality assurance analyst if necessary. Commissioning and decommissioning of', 'Zobello is looking for a Data Analyst Associate who will be responsible for presenting data to derive actionable results. What we are looking out for: Graduate with 1 -2 years', 'Use GIS knowledge to gather and update mapping data * Working with OSM data model and data Working with large datasets * Developing automated tools, set up and improve data', 'Analyze the daily MIS of associates. Weekly follow up on lead quality. Conversion support. Analyze data location wise and identify the reasons for changes in conversion trend. Provide real time', '- Interpret data, analyze results using statistical techniques and provide ongoing reports - Locate and define new process improvement opportunities - Work with management to prioritise business and information needs', 'Ingesting data from various sources and manipulating it in the desired format Identifying patterns and trends in data sets Running statistical tests to determine the cause behind an observation Automating', 'The person will play a key role in one of the most strategic areas of the company . You will support data-driven decision-making and conduct data analysis to develop new', \"TITLE Data Analysts LOCATION Noida EXPERIENCE 3- 8 yrs JOB INFORMATION Very good programming skills, preferably in R' language Strong Experience in MySQL Ability to grasp nuances of business quickly\", 'Data Analyst Total Years of Experience: 3 8 Year Key skills: Good Analytical Skills, Data collection, Data mining, Critical Thinking, Math Skills ,', 'Data Analyst,', \"Job Title: Data Modeller/Data Analyst/ Machine Learning Engineers Location : Noida, India Experience : 2 - 7 Years Who we are: Acidaes Solutions (CRMNEXT) is the World's Most Powerful Financial\", 'we are looking for candidate who have ability to operate computer and to generate data . Salary 1 Lac To 3 Lac 75 Thousand P.A. Industry Fresher / Trainee Work', \"Job Title: Data Modeller/Data Analyst/ Machine Learning Engineers Location : Noida, India Experience : 2 - 7 Years Who we are: Acidaes Solutions (CRMNEXT) is the World's Most Powerful Financial\", 'Data Analyst 1- 3 Years Exp - Credencys Solutions Inc. Data Analyst 1- 3 Years Exp Data Analyst 1- 3 Years Exp We are looking for a passionate Data Analyst', 'Job Description Data Exploration & Analysis. Also, show teams and ensuring other teams correctly Should have data extraction from different sources To generate leads and data profiling. Positive Attitude Flexible', 'Job Description : Proficient with reporting and statistical tools like Microsoft Excel , SPSS , Adobe etc. Ability to work in a team. Good Analytical skills Experience in E-commerce industry', 'Hiring for candidates for Data Analytics R D / GMP / NABL Product Development Services Development Project Managmeent Collaborations JVs.,', 'Job Description:Interpret data , analyse results using statistical techniques and provide ongoing reports Develop and implement data collection systems , data analytics and other strategies that optimize statistical efficiency and', 'Data Analyst New Delhi Apply here,', 'Data Analyst Data analysts collect, process and perform statistical analyses of data. Their skills may not be as advanced as data scientists (e.g. they may not be able to create']\n",
      "20\n"
     ]
    }
   ],
   "source": [
    "jd = [i.replace(\"\\xa0\",\" \") for i in jd]\n",
    "print(jd)\n",
    "print(len(jd))"
   ]
  },
  {
   "cell_type": "markdown",
   "metadata": {},
   "source": [
    "#### Extract Skills"
   ]
  },
  {
   "cell_type": "code",
   "execution_count": 73,
   "metadata": {},
   "outputs": [
    {
     "name": "stdout",
     "output_type": "stream",
     "text": [
      "['Skills :data mining,\\xa0\\n                                                            master data,\\xa0data analysis,\\xa0data cleansing,\\xa0data integrity', 'Skills :data analysis,\\xa0data mining,\\xa0\\n                                                            sql,\\xa0\\n                                                            microsoft excel,\\xa0\\n                                                            customer relations', 'Skills :data analysis,\\xa0\\n                                                            sql,\\xa0\\n                                                            microsoft excel,\\xa0\\n                                                            customer relations,\\xa0\\n                                                            reporting', 'Skills :data analysis,\\xa0Data Entry,\\xa0\\n                                                            sql,\\xa0\\n                                                            microsoft excel,\\xa0\\n                                                            customer relations', 'Skills :data analysis,\\xa0data\\xa0analyst,\\xa0\\n                                                            business analyst,\\xa0\\n                                                            senior business analyst,\\xa0\\n                                                            it project', 'Skills :data analysis,\\xa0\\n                                                            sql,\\xa0\\n                                                            microsoft excel,\\xa0\\n                                                            customer relations,\\xa0\\n                                                            reporting', 'Skills :data analysis,\\xa0data analytics,\\xa0data collection,\\xa0\\n                                                            sql,\\xa0\\n                                                            microsoft excel', 'Skills :data analysis,\\xa0\\n                                                            sql,\\xa0\\n                                                            microsoft excel,\\xa0\\n                                                            customer relations,\\xa0\\n                                                            business requirements', 'Skills :data,\\xa0data mining,\\xa0data analysis,\\xa0analyst,\\xa0\\n                                                            critical thinking', 'Skills :data analysis,\\xa0Data Collection,\\xa0\\n                                                            sql,\\xa0\\n                                                            microsoft excel,\\xa0\\n                                                            customer relations', 'Skills :data structures,\\xa0data management,\\xa0data analysis,\\xa0\\n                                                            financial services,\\xa0\\n                                                            relationship management', 'Skills :data analysis,\\xa0data processing,\\xa0Data,\\xa0\\n                                                            sql,\\xa0\\n                                                            microsoft excel', 'Skills :data structures,\\xa0data analysis,\\xa0data management,\\xa0\\n                                                            customer relationship management,\\xa0\\n                                                            customer relations', 'Skills :data collection,\\xa0data analysis,\\xa0\\n                                                            report writing,\\xa0\\n                                                            collection systems,\\xa0\\n                                                            process improvement', 'Skills :data analysis,\\xa0data management,\\xa0data extraction,\\xa0\\n                                                            sql,\\xa0\\n                                                            microsoft excel', 'Skills :data analysis,\\xa0\\n                                                            sql,\\xa0\\n                                                            microsoft excel,\\xa0\\n                                                            customer relations,\\xa0\\n                                                            statistical tools', 'Skills :data analytics,\\xa0\\n                                                            computer assisted audit,\\xa0\\n                                                            continuous controls monitoring,\\xa0\\n                                                            decision sciences,\\xa0\\n                                                            product development', 'Skills :data analysis,\\xa0data analytics,\\xa0data collection,\\xa0\\n                                                            sas,\\xa0\\n                                                            scala', 'Skills :data analysis,\\xa0Data Collection,\\xa0\\n                                                            sql,\\xa0\\n                                                            microsoft excel,\\xa0\\n                                                            customer relations', 'Skills :data analysis,\\xa0\\n                                                            big data,\\xa0\\n                                                            tools,\\xa0\\n                                                            design,\\xa0\\n                                                            statistical tools']\n"
     ]
    }
   ],
   "source": [
    "skills = []\n",
    "# for i in soup.find_all('div',class_={\"sk\"}):\n",
    "#     print(i.text)\n",
    "for i in soup.find_all('div',class_={\"sk\"}):\n",
    "    skills.append(i.text)\n",
    "print(skills)"
   ]
  },
  {
   "cell_type": "code",
   "execution_count": 74,
   "metadata": {},
   "outputs": [
    {
     "name": "stdout",
     "output_type": "stream",
     "text": [
      "['Skills :data mining,\\xa0                                                             master data,\\xa0data analysis,\\xa0data cleansing,\\xa0data integrity', 'Skills :data analysis,\\xa0data mining,\\xa0                                                             sql,\\xa0                                                             microsoft excel,\\xa0                                                             customer relations', 'Skills :data analysis,\\xa0                                                             sql,\\xa0                                                             microsoft excel,\\xa0                                                             customer relations,\\xa0                                                             reporting', 'Skills :data analysis,\\xa0Data Entry,\\xa0                                                             sql,\\xa0                                                             microsoft excel,\\xa0                                                             customer relations', 'Skills :data analysis,\\xa0data\\xa0analyst,\\xa0                                                             business analyst,\\xa0                                                             senior business analyst,\\xa0                                                             it project', 'Skills :data analysis,\\xa0                                                             sql,\\xa0                                                             microsoft excel,\\xa0                                                             customer relations,\\xa0                                                             reporting', 'Skills :data analysis,\\xa0data analytics,\\xa0data collection,\\xa0                                                             sql,\\xa0                                                             microsoft excel', 'Skills :data analysis,\\xa0                                                             sql,\\xa0                                                             microsoft excel,\\xa0                                                             customer relations,\\xa0                                                             business requirements', 'Skills :data,\\xa0data mining,\\xa0data analysis,\\xa0analyst,\\xa0                                                             critical thinking', 'Skills :data analysis,\\xa0Data Collection,\\xa0                                                             sql,\\xa0                                                             microsoft excel,\\xa0                                                             customer relations', 'Skills :data structures,\\xa0data management,\\xa0data analysis,\\xa0                                                             financial services,\\xa0                                                             relationship management', 'Skills :data analysis,\\xa0data processing,\\xa0Data,\\xa0                                                             sql,\\xa0                                                             microsoft excel', 'Skills :data structures,\\xa0data analysis,\\xa0data management,\\xa0                                                             customer relationship management,\\xa0                                                             customer relations', 'Skills :data collection,\\xa0data analysis,\\xa0                                                             report writing,\\xa0                                                             collection systems,\\xa0                                                             process improvement', 'Skills :data analysis,\\xa0data management,\\xa0data extraction,\\xa0                                                             sql,\\xa0                                                             microsoft excel', 'Skills :data analysis,\\xa0                                                             sql,\\xa0                                                             microsoft excel,\\xa0                                                             customer relations,\\xa0                                                             statistical tools', 'Skills :data analytics,\\xa0                                                             computer assisted audit,\\xa0                                                             continuous controls monitoring,\\xa0                                                             decision sciences,\\xa0                                                             product development', 'Skills :data analysis,\\xa0data analytics,\\xa0data collection,\\xa0                                                             sas,\\xa0                                                             scala', 'Skills :data analysis,\\xa0Data Collection,\\xa0                                                             sql,\\xa0                                                             microsoft excel,\\xa0                                                             customer relations', 'Skills :data analysis,\\xa0                                                             big data,\\xa0                                                             tools,\\xa0                                                             design,\\xa0                                                             statistical tools']\n",
      "20\n"
     ]
    }
   ],
   "source": [
    "skills = [i.replace(\"\\n\",\" \") for i in skills]\n",
    "print(skills)\n",
    "print(len(skills))"
   ]
  },
  {
   "cell_type": "code",
   "execution_count": 77,
   "metadata": {},
   "outputs": [
    {
     "name": "stdout",
     "output_type": "stream",
     "text": [
      "['Skills :data mining,                               master data, data analysis, data cleansing, data integrity', 'Skills :data analysis, data mining,                               sql,                               microsoft excel,                               customer relations', 'Skills :data analysis,                               sql,                               microsoft excel,                               customer relations,                               reporting', 'Skills :data analysis, Data Entry,                               sql,                               microsoft excel,                               customer relations', 'Skills :data analysis, data analyst,                               business analyst,                               senior business analyst,                               it project', 'Skills :data analysis,                               sql,                               microsoft excel,                               customer relations,                               reporting', 'Skills :data analysis, data analytics, data collection,                               sql,                               microsoft excel', 'Skills :data analysis,                               sql,                               microsoft excel,                               customer relations,                               business requirements', 'Skills :data, data mining, data analysis, analyst,                               critical thinking', 'Skills :data analysis, Data Collection,                               sql,                               microsoft excel,                               customer relations', 'Skills :data structures, data management, data analysis,                               financial services,                               relationship management', 'Skills :data analysis, data processing, Data,                               sql,                               microsoft excel', 'Skills :data structures, data analysis, data management,                               customer relationship management,                               customer relations', 'Skills :data collection, data analysis,                               report writing,                               collection systems,                               process improvement', 'Skills :data analysis, data management, data extraction,                               sql,                               microsoft excel', 'Skills :data analysis,                               sql,                               microsoft excel,                               customer relations,                               statistical tools', 'Skills :data analytics,                               computer assisted audit,                               continuous controls monitoring,                               decision sciences,                               product development', 'Skills :data analysis, data analytics, data collection,                               sas,                               scala', 'Skills :data analysis, Data Collection,                               sql,                               microsoft excel,                               customer relations', 'Skills :data analysis,                               big data,                               tools,                               design,                               statistical tools']\n",
      "20\n"
     ]
    }
   ],
   "source": [
    "skills = [i.replace(\"\\xa0\",\" \") for i in skills]\n",
    "print(skills)\n",
    "print(len(skills))"
   ]
  },
  {
   "cell_type": "code",
   "execution_count": 82,
   "metadata": {},
   "outputs": [
    {
     "name": "stdout",
     "output_type": "stream",
     "text": [
      "['Skills :data mining, master data, data analysis, data cleansing, data integrity', 'Skills :data analysis, data mining, sql, microsoft excel, customer relations', 'Skills :data analysis, sql, microsoft excel, customer relations, reporting', 'Skills :data analysis, Data Entry, sql, microsoft excel, customer relations', 'Skills :data analysis, data analyst, business analyst, senior business analyst, it project', 'Skills :data analysis, sql, microsoft excel, customer relations, reporting', 'Skills :data analysis, data analytics, data collection, sql, microsoft excel', 'Skills :data analysis, sql, microsoft excel, customer relations, business requirements', 'Skills :data, data mining, data analysis, analyst, critical thinking', 'Skills :data analysis, Data Collection, sql, microsoft excel, customer relations', 'Skills :data structures, data management, data analysis, financial services, relationship management', 'Skills :data analysis, data processing, Data, sql, microsoft excel', 'Skills :data structures, data analysis, data management, customer relationship management, customer relations', 'Skills :data collection, data analysis, report writing, collection systems, process improvement', 'Skills :data analysis, data management, data extraction, sql, microsoft excel', 'Skills :data analysis, sql, microsoft excel, customer relations, statistical tools', 'Skills :data analytics, computer assisted audit, continuous controls monitoring, decision sciences, product development', 'Skills :data analysis, data analytics, data collection, sas, scala', 'Skills :data analysis, Data Collection, sql, microsoft excel, customer relations', 'Skills :data analysis, big data, tools, design, statistical tools']\n",
      "20\n"
     ]
    }
   ],
   "source": [
    "skills = [i.replace(\"  \",\" \") for i in skills]\n",
    "print(skills)\n",
    "print(len(skills))"
   ]
  },
  {
   "cell_type": "code",
   "execution_count": 83,
   "metadata": {},
   "outputs": [
    {
     "name": "stdout",
     "output_type": "stream",
     "text": [
      "['data mining, master data, data analysis, data cleansing, data integrity', 'data analysis, data mining, sql, microsoft excel, customer relations', 'data analysis, sql, microsoft excel, customer relations, reporting', 'data analysis, Data Entry, sql, microsoft excel, customer relations', 'data analysis, data analyst, business analyst, senior business analyst, it project', 'data analysis, sql, microsoft excel, customer relations, reporting', 'data analysis, data analytics, data collection, sql, microsoft excel', 'data analysis, sql, microsoft excel, customer relations, business requirements', 'data, data mining, data analysis, analyst, critical thinking', 'data analysis, Data Collection, sql, microsoft excel, customer relations', 'data structures, data management, data analysis, financial services, relationship management', 'data analysis, data processing, Data, sql, microsoft excel', 'data structures, data analysis, data management, customer relationship management, customer relations', 'data collection, data analysis, report writing, collection systems, process improvement', 'data analysis, data management, data extraction, sql, microsoft excel', 'data analysis, sql, microsoft excel, customer relations, statistical tools', 'data analytics, computer assisted audit, continuous controls monitoring, decision sciences, product development', 'data analysis, data analytics, data collection, sas, scala', 'data analysis, Data Collection, sql, microsoft excel, customer relations', 'data analysis, big data, tools, design, statistical tools']\n",
      "20\n"
     ]
    }
   ],
   "source": [
    "skills = [i.replace(\"Skills :\",\"\") for i in skills]\n",
    "print(skills)\n",
    "print(len(skills))"
   ]
  },
  {
   "cell_type": "code",
   "execution_count": 91,
   "metadata": {},
   "outputs": [
    {
     "name": "stdout",
     "output_type": "stream",
     "text": [
      "20\n",
      "20\n",
      "20\n",
      "20\n",
      "20\n"
     ]
    }
   ],
   "source": [
    "print(len(org_name))\n",
    "print(len(loc))\n",
    "print(len(min_exp))\n",
    "print(len(jd))\n",
    "print(len(skills))"
   ]
  },
  {
   "cell_type": "code",
   "execution_count": null,
   "metadata": {},
   "outputs": [],
   "source": []
  },
  {
   "cell_type": "code",
   "execution_count": null,
   "metadata": {},
   "outputs": [],
   "source": []
  },
  {
   "cell_type": "markdown",
   "metadata": {},
   "source": [
    "#### Convert Oranization Name, Min_Exp, Location and JD,Skills into csv file"
   ]
  },
  {
   "cell_type": "code",
   "execution_count": 84,
   "metadata": {},
   "outputs": [],
   "source": [
    "import pandas as pd"
   ]
  },
  {
   "cell_type": "code",
   "execution_count": 92,
   "metadata": {},
   "outputs": [
    {
     "data": {
      "text/html": [
       "<div>\n",
       "<style scoped>\n",
       "    .dataframe tbody tr th:only-of-type {\n",
       "        vertical-align: middle;\n",
       "    }\n",
       "\n",
       "    .dataframe tbody tr th {\n",
       "        vertical-align: top;\n",
       "    }\n",
       "\n",
       "    .dataframe thead th {\n",
       "        text-align: right;\n",
       "    }\n",
       "</style>\n",
       "<table border=\"1\" class=\"dataframe\">\n",
       "  <thead>\n",
       "    <tr style=\"text-align: right;\">\n",
       "      <th></th>\n",
       "      <th>Organization Name</th>\n",
       "      <th>Min_Exp_Required</th>\n",
       "      <th>Location</th>\n",
       "      <th>Skills Required</th>\n",
       "      <th>Job Description</th>\n",
       "    </tr>\n",
       "  </thead>\n",
       "  <tbody>\n",
       "    <tr>\n",
       "      <th>0</th>\n",
       "      <td>iHackers</td>\n",
       "      <td>1-4</td>\n",
       "      <td>Delhi</td>\n",
       "      <td>data mining, master data, data analysis, data ...</td>\n",
       "      <td>Managing master data, including creation, upda...</td>\n",
       "    </tr>\n",
       "    <tr>\n",
       "      <th>1</th>\n",
       "      <td>Zobello</td>\n",
       "      <td>1-2</td>\n",
       "      <td>Delhi</td>\n",
       "      <td>data analysis, data mining, sql, microsoft exc...</td>\n",
       "      <td>Zobello is looking for a Data Analyst Associat...</td>\n",
       "    </tr>\n",
       "    <tr>\n",
       "      <th>2</th>\n",
       "      <td>CapitalPlacementServices</td>\n",
       "      <td>1-6</td>\n",
       "      <td>Delhi</td>\n",
       "      <td>data analysis, sql, microsoft excel, customer ...</td>\n",
       "      <td>Use GIS knowledge to gather and update mapping...</td>\n",
       "    </tr>\n",
       "    <tr>\n",
       "      <th>3</th>\n",
       "      <td>GenNextIndiaPrivateLimited</td>\n",
       "      <td>2-5</td>\n",
       "      <td>Ghaziabad</td>\n",
       "      <td>data analysis, Data Entry, sql, microsoft exce...</td>\n",
       "      <td>Analyze the daily MIS of associates. Weekly fo...</td>\n",
       "    </tr>\n",
       "    <tr>\n",
       "      <th>4</th>\n",
       "      <td>ElectrobrainModernTechnologiesprivateLimited</td>\n",
       "      <td>5-10</td>\n",
       "      <td>Delhi</td>\n",
       "      <td>data analysis, data analyst, business analyst,...</td>\n",
       "      <td>- Interpret data, analyze results using statis...</td>\n",
       "    </tr>\n",
       "    <tr>\n",
       "      <th>5</th>\n",
       "      <td>Squad</td>\n",
       "      <td>2-3</td>\n",
       "      <td>Delhi</td>\n",
       "      <td>data analysis, sql, microsoft excel, customer ...</td>\n",
       "      <td>Ingesting data from various sources and manipu...</td>\n",
       "    </tr>\n",
       "    <tr>\n",
       "      <th>6</th>\n",
       "      <td>VisualWebsiteOptimizer</td>\n",
       "      <td>1-3</td>\n",
       "      <td>Delhi</td>\n",
       "      <td>data analysis, data analytics, data collection...</td>\n",
       "      <td>The person will play a key role in one of the ...</td>\n",
       "    </tr>\n",
       "    <tr>\n",
       "      <th>7</th>\n",
       "      <td>Zoxima</td>\n",
       "      <td>3-8</td>\n",
       "      <td>Noida</td>\n",
       "      <td>data analysis, sql, microsoft excel, customer ...</td>\n",
       "      <td>TITLE Data Analysts LOCATION Noida EXPERIENCE ...</td>\n",
       "    </tr>\n",
       "    <tr>\n",
       "      <th>8</th>\n",
       "      <td>AaneelInfotechPrivatelimited</td>\n",
       "      <td>8-13</td>\n",
       "      <td>Noida</td>\n",
       "      <td>data, data mining, data analysis, analyst, cri...</td>\n",
       "      <td>Data Analyst Total Years of Experience: 3 8 Ye...</td>\n",
       "    </tr>\n",
       "    <tr>\n",
       "      <th>9</th>\n",
       "      <td>BrainyDemics</td>\n",
       "      <td>3-7</td>\n",
       "      <td>Delhi</td>\n",
       "      <td>data analysis, Data Collection, sql, microsoft...</td>\n",
       "      <td>Data Analyst,</td>\n",
       "    </tr>\n",
       "    <tr>\n",
       "      <th>10</th>\n",
       "      <td>CRMNEXT</td>\n",
       "      <td>2-7</td>\n",
       "      <td>Noida</td>\n",
       "      <td>data structures, data management, data analysi...</td>\n",
       "      <td>Job Title: Data Modeller/Data Analyst/ Machine...</td>\n",
       "    </tr>\n",
       "    <tr>\n",
       "      <th>11</th>\n",
       "      <td>MirrorConsultancyServices</td>\n",
       "      <td>0-3</td>\n",
       "      <td>Delhi</td>\n",
       "      <td>data analysis, data processing, Data, sql, mic...</td>\n",
       "      <td>we are looking for candidate who have ability ...</td>\n",
       "    </tr>\n",
       "    <tr>\n",
       "      <th>12</th>\n",
       "      <td>CRMNEXT</td>\n",
       "      <td>2-7</td>\n",
       "      <td>Noida</td>\n",
       "      <td>data structures, data analysis, data managemen...</td>\n",
       "      <td>Job Title: Data Modeller/Data Analyst/ Machine...</td>\n",
       "    </tr>\n",
       "    <tr>\n",
       "      <th>13</th>\n",
       "      <td>CredencysSolutionsPvt.Ltd</td>\n",
       "      <td>2-7</td>\n",
       "      <td>Delhi</td>\n",
       "      <td>data collection, data analysis, report writing...</td>\n",
       "      <td>Data Analyst 1- 3 Years Exp - Credencys Soluti...</td>\n",
       "    </tr>\n",
       "    <tr>\n",
       "      <th>14</th>\n",
       "      <td>ImperialTrainingandConsultants</td>\n",
       "      <td>0-2</td>\n",
       "      <td>Noida</td>\n",
       "      <td>data analysis, data management, data extractio...</td>\n",
       "      <td>Job Description Data Exploration &amp; Analysis. A...</td>\n",
       "    </tr>\n",
       "    <tr>\n",
       "      <th>15</th>\n",
       "      <td>Zobello</td>\n",
       "      <td>1-6</td>\n",
       "      <td>Delhi</td>\n",
       "      <td>data analysis, sql, microsoft excel, customer ...</td>\n",
       "      <td>Job Description : Proficient with reporting an...</td>\n",
       "    </tr>\n",
       "    <tr>\n",
       "      <th>16</th>\n",
       "      <td>IdeaVenturesPvt.Ltd</td>\n",
       "      <td>2-5</td>\n",
       "      <td>Delhi</td>\n",
       "      <td>data analytics, computer assisted audit, conti...</td>\n",
       "      <td>Hiring for candidates for Data Analytics R D /...</td>\n",
       "    </tr>\n",
       "    <tr>\n",
       "      <th>17</th>\n",
       "      <td>ANRSoftwarePvt.Ltd.</td>\n",
       "      <td>2-5</td>\n",
       "      <td>Noida</td>\n",
       "      <td>data analysis, data analytics, data collection...</td>\n",
       "      <td>Job Description:Interpret data , analyse resul...</td>\n",
       "    </tr>\n",
       "    <tr>\n",
       "      <th>18</th>\n",
       "      <td>DimenticsInfoTechPvt.Ltd.</td>\n",
       "      <td>2-5</td>\n",
       "      <td>Delhi</td>\n",
       "      <td>data analysis, Data Collection, sql, microsoft...</td>\n",
       "      <td>Data Analyst New Delhi Apply here,</td>\n",
       "    </tr>\n",
       "    <tr>\n",
       "      <th>19</th>\n",
       "      <td>edata4you</td>\n",
       "      <td>2-5</td>\n",
       "      <td>Delhi</td>\n",
       "      <td>data analysis, big data, tools, design, statis...</td>\n",
       "      <td>Data Analyst Data analysts collect, process an...</td>\n",
       "    </tr>\n",
       "  </tbody>\n",
       "</table>\n",
       "</div>"
      ],
      "text/plain": [
       "                               Organization Name Min_Exp_Required   Location  \\\n",
       "0                                       iHackers              1-4      Delhi   \n",
       "1                                        Zobello              1-2      Delhi   \n",
       "2                       CapitalPlacementServices              1-6      Delhi   \n",
       "3                     GenNextIndiaPrivateLimited              2-5  Ghaziabad   \n",
       "4   ElectrobrainModernTechnologiesprivateLimited             5-10      Delhi   \n",
       "5                                          Squad              2-3      Delhi   \n",
       "6                         VisualWebsiteOptimizer              1-3      Delhi   \n",
       "7                                         Zoxima              3-8      Noida   \n",
       "8                   AaneelInfotechPrivatelimited             8-13      Noida   \n",
       "9                                   BrainyDemics              3-7      Delhi   \n",
       "10                                       CRMNEXT              2-7      Noida   \n",
       "11                     MirrorConsultancyServices              0-3      Delhi   \n",
       "12                                       CRMNEXT              2-7      Noida   \n",
       "13                     CredencysSolutionsPvt.Ltd              2-7      Delhi   \n",
       "14                ImperialTrainingandConsultants              0-2      Noida   \n",
       "15                                       Zobello              1-6      Delhi   \n",
       "16                           IdeaVenturesPvt.Ltd              2-5      Delhi   \n",
       "17                           ANRSoftwarePvt.Ltd.              2-5      Noida   \n",
       "18                     DimenticsInfoTechPvt.Ltd.              2-5      Delhi   \n",
       "19                                     edata4you              2-5      Delhi   \n",
       "\n",
       "                                      Skills Required  \\\n",
       "0   data mining, master data, data analysis, data ...   \n",
       "1   data analysis, data mining, sql, microsoft exc...   \n",
       "2   data analysis, sql, microsoft excel, customer ...   \n",
       "3   data analysis, Data Entry, sql, microsoft exce...   \n",
       "4   data analysis, data analyst, business analyst,...   \n",
       "5   data analysis, sql, microsoft excel, customer ...   \n",
       "6   data analysis, data analytics, data collection...   \n",
       "7   data analysis, sql, microsoft excel, customer ...   \n",
       "8   data, data mining, data analysis, analyst, cri...   \n",
       "9   data analysis, Data Collection, sql, microsoft...   \n",
       "10  data structures, data management, data analysi...   \n",
       "11  data analysis, data processing, Data, sql, mic...   \n",
       "12  data structures, data analysis, data managemen...   \n",
       "13  data collection, data analysis, report writing...   \n",
       "14  data analysis, data management, data extractio...   \n",
       "15  data analysis, sql, microsoft excel, customer ...   \n",
       "16  data analytics, computer assisted audit, conti...   \n",
       "17  data analysis, data analytics, data collection...   \n",
       "18  data analysis, Data Collection, sql, microsoft...   \n",
       "19  data analysis, big data, tools, design, statis...   \n",
       "\n",
       "                                      Job Description  \n",
       "0   Managing master data, including creation, upda...  \n",
       "1   Zobello is looking for a Data Analyst Associat...  \n",
       "2   Use GIS knowledge to gather and update mapping...  \n",
       "3   Analyze the daily MIS of associates. Weekly fo...  \n",
       "4   - Interpret data, analyze results using statis...  \n",
       "5   Ingesting data from various sources and manipu...  \n",
       "6   The person will play a key role in one of the ...  \n",
       "7   TITLE Data Analysts LOCATION Noida EXPERIENCE ...  \n",
       "8   Data Analyst Total Years of Experience: 3 8 Ye...  \n",
       "9                                       Data Analyst,  \n",
       "10  Job Title: Data Modeller/Data Analyst/ Machine...  \n",
       "11  we are looking for candidate who have ability ...  \n",
       "12  Job Title: Data Modeller/Data Analyst/ Machine...  \n",
       "13  Data Analyst 1- 3 Years Exp - Credencys Soluti...  \n",
       "14  Job Description Data Exploration & Analysis. A...  \n",
       "15  Job Description : Proficient with reporting an...  \n",
       "16  Hiring for candidates for Data Analytics R D /...  \n",
       "17  Job Description:Interpret data , analyse resul...  \n",
       "18                 Data Analyst New Delhi Apply here,  \n",
       "19  Data Analyst Data analysts collect, process an...  "
      ]
     },
     "execution_count": 92,
     "metadata": {},
     "output_type": "execute_result"
    }
   ],
   "source": [
    "df = pd.DataFrame({'Organization Name': org_name, \"Min_Exp_Required\":min_exp,\n",
    "                  \"Location\": loc, \"Skills Required\":skills,\n",
    "                  \"Job Description\": jd})\n",
    "df"
   ]
  },
  {
   "cell_type": "code",
   "execution_count": 93,
   "metadata": {},
   "outputs": [],
   "source": [
    "df.to_csv('Data_Analyst_Job_Delhi_NCR.csv')"
   ]
  },
  {
   "cell_type": "code",
   "execution_count": null,
   "metadata": {},
   "outputs": [],
   "source": []
  }
 ],
 "metadata": {
  "kernelspec": {
   "display_name": "Python 3",
   "language": "python",
   "name": "python3"
  },
  "language_info": {
   "codemirror_mode": {
    "name": "ipython",
    "version": 3
   },
   "file_extension": ".py",
   "mimetype": "text/x-python",
   "name": "python",
   "nbconvert_exporter": "python",
   "pygments_lexer": "ipython3",
   "version": "3.7.3"
  }
 },
 "nbformat": 4,
 "nbformat_minor": 2
}
